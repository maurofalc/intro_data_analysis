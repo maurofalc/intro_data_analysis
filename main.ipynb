{
 "cells": [
  {
   "cell_type": "markdown",
   "id": "ede2ce1c",
   "metadata": {},
   "source": [
    "# Coleta de dados"
   ]
  },
  {
   "cell_type": "code",
   "execution_count": 365,
   "id": "2ca3bbf4",
   "metadata": {},
   "outputs": [],
   "source": [
    "import pandas as pd\n",
    "import numpy as np\n",
    "from sklearn.preprocessing import StandardScaler, MinMaxScaler"
   ]
  },
  {
   "cell_type": "code",
   "execution_count": 366,
   "id": "e39e4a26",
   "metadata": {},
   "outputs": [],
   "source": [
    "customers = pd.read_csv(\"datasets/olist_customers_dataset.csv\")\n",
    "location = pd.read_csv(\"datasets/olist_geolocation_dataset.csv\")\n",
    "items = pd.read_csv(\"datasets/olist_order_items_dataset.csv\")\n",
    "payments = pd.read_csv(\"datasets/olist_order_payments_dataset.csv\")\n",
    "reviews = pd.read_csv(\"datasets/olist_order_reviews_dataset.csv\")\n",
    "orders = pd.read_csv(\"datasets/olist_orders_dataset.csv\")\n",
    "products = pd.read_csv(\"datasets/olist_products_dataset.csv\")\n",
    "sellers = pd.read_csv(\"datasets/olist_sellers_dataset.csv\")"
   ]
  },
  {
   "cell_type": "markdown",
   "id": "bc050296",
   "metadata": {},
   "source": [
    "# Pré-Processamento dos Dados"
   ]
  },
  {
   "cell_type": "markdown",
   "id": "29a28142",
   "metadata": {},
   "source": [
    "## Definindo Tipos"
   ]
  },
  {
   "cell_type": "code",
   "execution_count": 367,
   "id": "67d4874f",
   "metadata": {
    "scrolled": true
   },
   "outputs": [
    {
     "data": {
      "text/html": [
       "<div>\n",
       "<style scoped>\n",
       "    .dataframe tbody tr th:only-of-type {\n",
       "        vertical-align: middle;\n",
       "    }\n",
       "\n",
       "    .dataframe tbody tr th {\n",
       "        vertical-align: top;\n",
       "    }\n",
       "\n",
       "    .dataframe thead th {\n",
       "        text-align: right;\n",
       "    }\n",
       "</style>\n",
       "<table border=\"1\" class=\"dataframe\">\n",
       "  <thead>\n",
       "    <tr style=\"text-align: right;\">\n",
       "      <th></th>\n",
       "      <th>customer_id</th>\n",
       "      <th>customer_unique_id</th>\n",
       "      <th>customer_zip_code_prefix</th>\n",
       "      <th>customer_city</th>\n",
       "      <th>customer_state</th>\n",
       "    </tr>\n",
       "  </thead>\n",
       "  <tbody>\n",
       "    <tr>\n",
       "      <th>0</th>\n",
       "      <td>06b8999e2fba1a1fbc88172c00ba8bc7</td>\n",
       "      <td>861eff4711a542e4b93843c6dd7febb0</td>\n",
       "      <td>14409</td>\n",
       "      <td>franca</td>\n",
       "      <td>SP</td>\n",
       "    </tr>\n",
       "    <tr>\n",
       "      <th>1</th>\n",
       "      <td>18955e83d337fd6b2def6b18a428ac77</td>\n",
       "      <td>290c77bc529b7ac935b93aa66c333dc3</td>\n",
       "      <td>9790</td>\n",
       "      <td>sao bernardo do campo</td>\n",
       "      <td>SP</td>\n",
       "    </tr>\n",
       "    <tr>\n",
       "      <th>2</th>\n",
       "      <td>4e7b3e00288586ebd08712fdd0374a03</td>\n",
       "      <td>060e732b5b29e8181a18229c7b0b2b5e</td>\n",
       "      <td>1151</td>\n",
       "      <td>sao paulo</td>\n",
       "      <td>SP</td>\n",
       "    </tr>\n",
       "    <tr>\n",
       "      <th>3</th>\n",
       "      <td>b2b6027bc5c5109e529d4dc6358b12c3</td>\n",
       "      <td>259dac757896d24d7702b9acbbff3f3c</td>\n",
       "      <td>8775</td>\n",
       "      <td>mogi das cruzes</td>\n",
       "      <td>SP</td>\n",
       "    </tr>\n",
       "    <tr>\n",
       "      <th>4</th>\n",
       "      <td>4f2d8ab171c80ec8364f7c12e35b23ad</td>\n",
       "      <td>345ecd01c38d18a9036ed96c73b8d066</td>\n",
       "      <td>13056</td>\n",
       "      <td>campinas</td>\n",
       "      <td>SP</td>\n",
       "    </tr>\n",
       "  </tbody>\n",
       "</table>\n",
       "</div>"
      ],
      "text/plain": [
       "                        customer_id                customer_unique_id  \\\n",
       "0  06b8999e2fba1a1fbc88172c00ba8bc7  861eff4711a542e4b93843c6dd7febb0   \n",
       "1  18955e83d337fd6b2def6b18a428ac77  290c77bc529b7ac935b93aa66c333dc3   \n",
       "2  4e7b3e00288586ebd08712fdd0374a03  060e732b5b29e8181a18229c7b0b2b5e   \n",
       "3  b2b6027bc5c5109e529d4dc6358b12c3  259dac757896d24d7702b9acbbff3f3c   \n",
       "4  4f2d8ab171c80ec8364f7c12e35b23ad  345ecd01c38d18a9036ed96c73b8d066   \n",
       "\n",
       "   customer_zip_code_prefix          customer_city customer_state  \n",
       "0                     14409                 franca             SP  \n",
       "1                      9790  sao bernardo do campo             SP  \n",
       "2                      1151              sao paulo             SP  \n",
       "3                      8775        mogi das cruzes             SP  \n",
       "4                     13056               campinas             SP  "
      ]
     },
     "execution_count": 367,
     "metadata": {},
     "output_type": "execute_result"
    }
   ],
   "source": [
    "customers.head(5)"
   ]
  },
  {
   "cell_type": "code",
   "execution_count": 368,
   "id": "5109057b",
   "metadata": {},
   "outputs": [
    {
     "data": {
      "text/html": [
       "<div>\n",
       "<style scoped>\n",
       "    .dataframe tbody tr th:only-of-type {\n",
       "        vertical-align: middle;\n",
       "    }\n",
       "\n",
       "    .dataframe tbody tr th {\n",
       "        vertical-align: top;\n",
       "    }\n",
       "\n",
       "    .dataframe thead th {\n",
       "        text-align: right;\n",
       "    }\n",
       "</style>\n",
       "<table border=\"1\" class=\"dataframe\">\n",
       "  <thead>\n",
       "    <tr style=\"text-align: right;\">\n",
       "      <th></th>\n",
       "      <th>geolocation_zip_code_prefix</th>\n",
       "      <th>geolocation_lat</th>\n",
       "      <th>geolocation_lng</th>\n",
       "      <th>geolocation_city</th>\n",
       "      <th>geolocation_state</th>\n",
       "    </tr>\n",
       "  </thead>\n",
       "  <tbody>\n",
       "    <tr>\n",
       "      <th>0</th>\n",
       "      <td>1037</td>\n",
       "      <td>-23.545621</td>\n",
       "      <td>-46.639292</td>\n",
       "      <td>sao paulo</td>\n",
       "      <td>SP</td>\n",
       "    </tr>\n",
       "    <tr>\n",
       "      <th>1</th>\n",
       "      <td>1046</td>\n",
       "      <td>-23.546081</td>\n",
       "      <td>-46.644820</td>\n",
       "      <td>sao paulo</td>\n",
       "      <td>SP</td>\n",
       "    </tr>\n",
       "    <tr>\n",
       "      <th>2</th>\n",
       "      <td>1046</td>\n",
       "      <td>-23.546129</td>\n",
       "      <td>-46.642951</td>\n",
       "      <td>sao paulo</td>\n",
       "      <td>SP</td>\n",
       "    </tr>\n",
       "    <tr>\n",
       "      <th>3</th>\n",
       "      <td>1041</td>\n",
       "      <td>-23.544392</td>\n",
       "      <td>-46.639499</td>\n",
       "      <td>sao paulo</td>\n",
       "      <td>SP</td>\n",
       "    </tr>\n",
       "    <tr>\n",
       "      <th>4</th>\n",
       "      <td>1035</td>\n",
       "      <td>-23.541578</td>\n",
       "      <td>-46.641607</td>\n",
       "      <td>sao paulo</td>\n",
       "      <td>SP</td>\n",
       "    </tr>\n",
       "  </tbody>\n",
       "</table>\n",
       "</div>"
      ],
      "text/plain": [
       "   geolocation_zip_code_prefix  geolocation_lat  geolocation_lng  \\\n",
       "0                         1037       -23.545621       -46.639292   \n",
       "1                         1046       -23.546081       -46.644820   \n",
       "2                         1046       -23.546129       -46.642951   \n",
       "3                         1041       -23.544392       -46.639499   \n",
       "4                         1035       -23.541578       -46.641607   \n",
       "\n",
       "  geolocation_city geolocation_state  \n",
       "0        sao paulo                SP  \n",
       "1        sao paulo                SP  \n",
       "2        sao paulo                SP  \n",
       "3        sao paulo                SP  \n",
       "4        sao paulo                SP  "
      ]
     },
     "execution_count": 368,
     "metadata": {},
     "output_type": "execute_result"
    }
   ],
   "source": [
    "location.head(5)"
   ]
  },
  {
   "cell_type": "code",
   "execution_count": 369,
   "id": "abed39f5",
   "metadata": {},
   "outputs": [
    {
     "data": {
      "text/html": [
       "<div>\n",
       "<style scoped>\n",
       "    .dataframe tbody tr th:only-of-type {\n",
       "        vertical-align: middle;\n",
       "    }\n",
       "\n",
       "    .dataframe tbody tr th {\n",
       "        vertical-align: top;\n",
       "    }\n",
       "\n",
       "    .dataframe thead th {\n",
       "        text-align: right;\n",
       "    }\n",
       "</style>\n",
       "<table border=\"1\" class=\"dataframe\">\n",
       "  <thead>\n",
       "    <tr style=\"text-align: right;\">\n",
       "      <th></th>\n",
       "      <th>order_id</th>\n",
       "      <th>order_item_id</th>\n",
       "      <th>product_id</th>\n",
       "      <th>seller_id</th>\n",
       "      <th>shipping_limit_date</th>\n",
       "      <th>price</th>\n",
       "      <th>freight_value</th>\n",
       "    </tr>\n",
       "  </thead>\n",
       "  <tbody>\n",
       "    <tr>\n",
       "      <th>0</th>\n",
       "      <td>00010242fe8c5a6d1ba2dd792cb16214</td>\n",
       "      <td>1</td>\n",
       "      <td>4244733e06e7ecb4970a6e2683c13e61</td>\n",
       "      <td>48436dade18ac8b2bce089ec2a041202</td>\n",
       "      <td>2017-09-19 09:45:35</td>\n",
       "      <td>58.90</td>\n",
       "      <td>13.29</td>\n",
       "    </tr>\n",
       "    <tr>\n",
       "      <th>1</th>\n",
       "      <td>00018f77f2f0320c557190d7a144bdd3</td>\n",
       "      <td>1</td>\n",
       "      <td>e5f2d52b802189ee658865ca93d83a8f</td>\n",
       "      <td>dd7ddc04e1b6c2c614352b383efe2d36</td>\n",
       "      <td>2017-05-03 11:05:13</td>\n",
       "      <td>239.90</td>\n",
       "      <td>19.93</td>\n",
       "    </tr>\n",
       "    <tr>\n",
       "      <th>2</th>\n",
       "      <td>000229ec398224ef6ca0657da4fc703e</td>\n",
       "      <td>1</td>\n",
       "      <td>c777355d18b72b67abbeef9df44fd0fd</td>\n",
       "      <td>5b51032eddd242adc84c38acab88f23d</td>\n",
       "      <td>2018-01-18 14:48:30</td>\n",
       "      <td>199.00</td>\n",
       "      <td>17.87</td>\n",
       "    </tr>\n",
       "    <tr>\n",
       "      <th>3</th>\n",
       "      <td>00024acbcdf0a6daa1e931b038114c75</td>\n",
       "      <td>1</td>\n",
       "      <td>7634da152a4610f1595efa32f14722fc</td>\n",
       "      <td>9d7a1d34a5052409006425275ba1c2b4</td>\n",
       "      <td>2018-08-15 10:10:18</td>\n",
       "      <td>12.99</td>\n",
       "      <td>12.79</td>\n",
       "    </tr>\n",
       "    <tr>\n",
       "      <th>4</th>\n",
       "      <td>00042b26cf59d7ce69dfabb4e55b4fd9</td>\n",
       "      <td>1</td>\n",
       "      <td>ac6c3623068f30de03045865e4e10089</td>\n",
       "      <td>df560393f3a51e74553ab94004ba5c87</td>\n",
       "      <td>2017-02-13 13:57:51</td>\n",
       "      <td>199.90</td>\n",
       "      <td>18.14</td>\n",
       "    </tr>\n",
       "  </tbody>\n",
       "</table>\n",
       "</div>"
      ],
      "text/plain": [
       "                           order_id  order_item_id  \\\n",
       "0  00010242fe8c5a6d1ba2dd792cb16214              1   \n",
       "1  00018f77f2f0320c557190d7a144bdd3              1   \n",
       "2  000229ec398224ef6ca0657da4fc703e              1   \n",
       "3  00024acbcdf0a6daa1e931b038114c75              1   \n",
       "4  00042b26cf59d7ce69dfabb4e55b4fd9              1   \n",
       "\n",
       "                         product_id                         seller_id  \\\n",
       "0  4244733e06e7ecb4970a6e2683c13e61  48436dade18ac8b2bce089ec2a041202   \n",
       "1  e5f2d52b802189ee658865ca93d83a8f  dd7ddc04e1b6c2c614352b383efe2d36   \n",
       "2  c777355d18b72b67abbeef9df44fd0fd  5b51032eddd242adc84c38acab88f23d   \n",
       "3  7634da152a4610f1595efa32f14722fc  9d7a1d34a5052409006425275ba1c2b4   \n",
       "4  ac6c3623068f30de03045865e4e10089  df560393f3a51e74553ab94004ba5c87   \n",
       "\n",
       "   shipping_limit_date   price  freight_value  \n",
       "0  2017-09-19 09:45:35   58.90          13.29  \n",
       "1  2017-05-03 11:05:13  239.90          19.93  \n",
       "2  2018-01-18 14:48:30  199.00          17.87  \n",
       "3  2018-08-15 10:10:18   12.99          12.79  \n",
       "4  2017-02-13 13:57:51  199.90          18.14  "
      ]
     },
     "execution_count": 369,
     "metadata": {},
     "output_type": "execute_result"
    }
   ],
   "source": [
    "items.head(5)"
   ]
  },
  {
   "cell_type": "code",
   "execution_count": 370,
   "id": "64b9e092",
   "metadata": {},
   "outputs": [
    {
     "data": {
      "text/html": [
       "<div>\n",
       "<style scoped>\n",
       "    .dataframe tbody tr th:only-of-type {\n",
       "        vertical-align: middle;\n",
       "    }\n",
       "\n",
       "    .dataframe tbody tr th {\n",
       "        vertical-align: top;\n",
       "    }\n",
       "\n",
       "    .dataframe thead th {\n",
       "        text-align: right;\n",
       "    }\n",
       "</style>\n",
       "<table border=\"1\" class=\"dataframe\">\n",
       "  <thead>\n",
       "    <tr style=\"text-align: right;\">\n",
       "      <th></th>\n",
       "      <th>order_id</th>\n",
       "      <th>payment_sequential</th>\n",
       "      <th>payment_type</th>\n",
       "      <th>payment_installments</th>\n",
       "      <th>payment_value</th>\n",
       "    </tr>\n",
       "  </thead>\n",
       "  <tbody>\n",
       "    <tr>\n",
       "      <th>0</th>\n",
       "      <td>b81ef226f3fe1789b1e8b2acac839d17</td>\n",
       "      <td>1</td>\n",
       "      <td>credit_card</td>\n",
       "      <td>8</td>\n",
       "      <td>99.33</td>\n",
       "    </tr>\n",
       "    <tr>\n",
       "      <th>1</th>\n",
       "      <td>a9810da82917af2d9aefd1278f1dcfa0</td>\n",
       "      <td>1</td>\n",
       "      <td>credit_card</td>\n",
       "      <td>1</td>\n",
       "      <td>24.39</td>\n",
       "    </tr>\n",
       "    <tr>\n",
       "      <th>2</th>\n",
       "      <td>25e8ea4e93396b6fa0d3dd708e76c1bd</td>\n",
       "      <td>1</td>\n",
       "      <td>credit_card</td>\n",
       "      <td>1</td>\n",
       "      <td>65.71</td>\n",
       "    </tr>\n",
       "    <tr>\n",
       "      <th>3</th>\n",
       "      <td>ba78997921bbcdc1373bb41e913ab953</td>\n",
       "      <td>1</td>\n",
       "      <td>credit_card</td>\n",
       "      <td>8</td>\n",
       "      <td>107.78</td>\n",
       "    </tr>\n",
       "    <tr>\n",
       "      <th>4</th>\n",
       "      <td>42fdf880ba16b47b59251dd489d4441a</td>\n",
       "      <td>1</td>\n",
       "      <td>credit_card</td>\n",
       "      <td>2</td>\n",
       "      <td>128.45</td>\n",
       "    </tr>\n",
       "  </tbody>\n",
       "</table>\n",
       "</div>"
      ],
      "text/plain": [
       "                           order_id  payment_sequential payment_type  \\\n",
       "0  b81ef226f3fe1789b1e8b2acac839d17                   1  credit_card   \n",
       "1  a9810da82917af2d9aefd1278f1dcfa0                   1  credit_card   \n",
       "2  25e8ea4e93396b6fa0d3dd708e76c1bd                   1  credit_card   \n",
       "3  ba78997921bbcdc1373bb41e913ab953                   1  credit_card   \n",
       "4  42fdf880ba16b47b59251dd489d4441a                   1  credit_card   \n",
       "\n",
       "   payment_installments  payment_value  \n",
       "0                     8          99.33  \n",
       "1                     1          24.39  \n",
       "2                     1          65.71  \n",
       "3                     8         107.78  \n",
       "4                     2         128.45  "
      ]
     },
     "execution_count": 370,
     "metadata": {},
     "output_type": "execute_result"
    }
   ],
   "source": [
    "payments.head(5)"
   ]
  },
  {
   "cell_type": "code",
   "execution_count": 371,
   "id": "8a0d9674",
   "metadata": {},
   "outputs": [
    {
     "data": {
      "text/html": [
       "<div>\n",
       "<style scoped>\n",
       "    .dataframe tbody tr th:only-of-type {\n",
       "        vertical-align: middle;\n",
       "    }\n",
       "\n",
       "    .dataframe tbody tr th {\n",
       "        vertical-align: top;\n",
       "    }\n",
       "\n",
       "    .dataframe thead th {\n",
       "        text-align: right;\n",
       "    }\n",
       "</style>\n",
       "<table border=\"1\" class=\"dataframe\">\n",
       "  <thead>\n",
       "    <tr style=\"text-align: right;\">\n",
       "      <th></th>\n",
       "      <th>review_id</th>\n",
       "      <th>order_id</th>\n",
       "      <th>review_score</th>\n",
       "      <th>review_comment_title</th>\n",
       "      <th>review_comment_message</th>\n",
       "      <th>review_creation_date</th>\n",
       "      <th>review_answer_timestamp</th>\n",
       "    </tr>\n",
       "  </thead>\n",
       "  <tbody>\n",
       "    <tr>\n",
       "      <th>0</th>\n",
       "      <td>7bc2406110b926393aa56f80a40eba40</td>\n",
       "      <td>73fc7af87114b39712e6da79b0a377eb</td>\n",
       "      <td>4</td>\n",
       "      <td>NaN</td>\n",
       "      <td>NaN</td>\n",
       "      <td>2018-01-18 00:00:00</td>\n",
       "      <td>2018-01-18 21:46:59</td>\n",
       "    </tr>\n",
       "    <tr>\n",
       "      <th>1</th>\n",
       "      <td>80e641a11e56f04c1ad469d5645fdfde</td>\n",
       "      <td>a548910a1c6147796b98fdf73dbeba33</td>\n",
       "      <td>5</td>\n",
       "      <td>NaN</td>\n",
       "      <td>NaN</td>\n",
       "      <td>2018-03-10 00:00:00</td>\n",
       "      <td>2018-03-11 03:05:13</td>\n",
       "    </tr>\n",
       "    <tr>\n",
       "      <th>2</th>\n",
       "      <td>228ce5500dc1d8e020d8d1322874b6f0</td>\n",
       "      <td>f9e4b658b201a9f2ecdecbb34bed034b</td>\n",
       "      <td>5</td>\n",
       "      <td>NaN</td>\n",
       "      <td>NaN</td>\n",
       "      <td>2018-02-17 00:00:00</td>\n",
       "      <td>2018-02-18 14:36:24</td>\n",
       "    </tr>\n",
       "    <tr>\n",
       "      <th>3</th>\n",
       "      <td>e64fb393e7b32834bb789ff8bb30750e</td>\n",
       "      <td>658677c97b385a9be170737859d3511b</td>\n",
       "      <td>5</td>\n",
       "      <td>NaN</td>\n",
       "      <td>Recebi bem antes do prazo estipulado.</td>\n",
       "      <td>2017-04-21 00:00:00</td>\n",
       "      <td>2017-04-21 22:02:06</td>\n",
       "    </tr>\n",
       "    <tr>\n",
       "      <th>4</th>\n",
       "      <td>f7c4243c7fe1938f181bec41a392bdeb</td>\n",
       "      <td>8e6bfb81e283fa7e4f11123a3fb894f1</td>\n",
       "      <td>5</td>\n",
       "      <td>NaN</td>\n",
       "      <td>Parabéns lojas lannister adorei comprar pela I...</td>\n",
       "      <td>2018-03-01 00:00:00</td>\n",
       "      <td>2018-03-02 10:26:53</td>\n",
       "    </tr>\n",
       "  </tbody>\n",
       "</table>\n",
       "</div>"
      ],
      "text/plain": [
       "                          review_id                          order_id  \\\n",
       "0  7bc2406110b926393aa56f80a40eba40  73fc7af87114b39712e6da79b0a377eb   \n",
       "1  80e641a11e56f04c1ad469d5645fdfde  a548910a1c6147796b98fdf73dbeba33   \n",
       "2  228ce5500dc1d8e020d8d1322874b6f0  f9e4b658b201a9f2ecdecbb34bed034b   \n",
       "3  e64fb393e7b32834bb789ff8bb30750e  658677c97b385a9be170737859d3511b   \n",
       "4  f7c4243c7fe1938f181bec41a392bdeb  8e6bfb81e283fa7e4f11123a3fb894f1   \n",
       "\n",
       "   review_score review_comment_title  \\\n",
       "0             4                  NaN   \n",
       "1             5                  NaN   \n",
       "2             5                  NaN   \n",
       "3             5                  NaN   \n",
       "4             5                  NaN   \n",
       "\n",
       "                              review_comment_message review_creation_date  \\\n",
       "0                                                NaN  2018-01-18 00:00:00   \n",
       "1                                                NaN  2018-03-10 00:00:00   \n",
       "2                                                NaN  2018-02-17 00:00:00   \n",
       "3              Recebi bem antes do prazo estipulado.  2017-04-21 00:00:00   \n",
       "4  Parabéns lojas lannister adorei comprar pela I...  2018-03-01 00:00:00   \n",
       "\n",
       "  review_answer_timestamp  \n",
       "0     2018-01-18 21:46:59  \n",
       "1     2018-03-11 03:05:13  \n",
       "2     2018-02-18 14:36:24  \n",
       "3     2017-04-21 22:02:06  \n",
       "4     2018-03-02 10:26:53  "
      ]
     },
     "execution_count": 371,
     "metadata": {},
     "output_type": "execute_result"
    }
   ],
   "source": [
    "reviews.head(5)"
   ]
  },
  {
   "cell_type": "code",
   "execution_count": 372,
   "id": "0e88332e",
   "metadata": {},
   "outputs": [
    {
     "data": {
      "text/html": [
       "<div>\n",
       "<style scoped>\n",
       "    .dataframe tbody tr th:only-of-type {\n",
       "        vertical-align: middle;\n",
       "    }\n",
       "\n",
       "    .dataframe tbody tr th {\n",
       "        vertical-align: top;\n",
       "    }\n",
       "\n",
       "    .dataframe thead th {\n",
       "        text-align: right;\n",
       "    }\n",
       "</style>\n",
       "<table border=\"1\" class=\"dataframe\">\n",
       "  <thead>\n",
       "    <tr style=\"text-align: right;\">\n",
       "      <th></th>\n",
       "      <th>order_id</th>\n",
       "      <th>customer_id</th>\n",
       "      <th>order_status</th>\n",
       "      <th>order_purchase_timestamp</th>\n",
       "      <th>order_approved_at</th>\n",
       "      <th>order_delivered_carrier_date</th>\n",
       "      <th>order_delivered_customer_date</th>\n",
       "      <th>order_estimated_delivery_date</th>\n",
       "    </tr>\n",
       "  </thead>\n",
       "  <tbody>\n",
       "    <tr>\n",
       "      <th>0</th>\n",
       "      <td>e481f51cbdc54678b7cc49136f2d6af7</td>\n",
       "      <td>9ef432eb6251297304e76186b10a928d</td>\n",
       "      <td>delivered</td>\n",
       "      <td>2017-10-02 10:56:33</td>\n",
       "      <td>2017-10-02 11:07:15</td>\n",
       "      <td>2017-10-04 19:55:00</td>\n",
       "      <td>2017-10-10 21:25:13</td>\n",
       "      <td>2017-10-18 00:00:00</td>\n",
       "    </tr>\n",
       "    <tr>\n",
       "      <th>1</th>\n",
       "      <td>53cdb2fc8bc7dce0b6741e2150273451</td>\n",
       "      <td>b0830fb4747a6c6d20dea0b8c802d7ef</td>\n",
       "      <td>delivered</td>\n",
       "      <td>2018-07-24 20:41:37</td>\n",
       "      <td>2018-07-26 03:24:27</td>\n",
       "      <td>2018-07-26 14:31:00</td>\n",
       "      <td>2018-08-07 15:27:45</td>\n",
       "      <td>2018-08-13 00:00:00</td>\n",
       "    </tr>\n",
       "    <tr>\n",
       "      <th>2</th>\n",
       "      <td>47770eb9100c2d0c44946d9cf07ec65d</td>\n",
       "      <td>41ce2a54c0b03bf3443c3d931a367089</td>\n",
       "      <td>delivered</td>\n",
       "      <td>2018-08-08 08:38:49</td>\n",
       "      <td>2018-08-08 08:55:23</td>\n",
       "      <td>2018-08-08 13:50:00</td>\n",
       "      <td>2018-08-17 18:06:29</td>\n",
       "      <td>2018-09-04 00:00:00</td>\n",
       "    </tr>\n",
       "    <tr>\n",
       "      <th>3</th>\n",
       "      <td>949d5b44dbf5de918fe9c16f97b45f8a</td>\n",
       "      <td>f88197465ea7920adcdbec7375364d82</td>\n",
       "      <td>delivered</td>\n",
       "      <td>2017-11-18 19:28:06</td>\n",
       "      <td>2017-11-18 19:45:59</td>\n",
       "      <td>2017-11-22 13:39:59</td>\n",
       "      <td>2017-12-02 00:28:42</td>\n",
       "      <td>2017-12-15 00:00:00</td>\n",
       "    </tr>\n",
       "    <tr>\n",
       "      <th>4</th>\n",
       "      <td>ad21c59c0840e6cb83a9ceb5573f8159</td>\n",
       "      <td>8ab97904e6daea8866dbdbc4fb7aad2c</td>\n",
       "      <td>delivered</td>\n",
       "      <td>2018-02-13 21:18:39</td>\n",
       "      <td>2018-02-13 22:20:29</td>\n",
       "      <td>2018-02-14 19:46:34</td>\n",
       "      <td>2018-02-16 18:17:02</td>\n",
       "      <td>2018-02-26 00:00:00</td>\n",
       "    </tr>\n",
       "  </tbody>\n",
       "</table>\n",
       "</div>"
      ],
      "text/plain": [
       "                           order_id                       customer_id  \\\n",
       "0  e481f51cbdc54678b7cc49136f2d6af7  9ef432eb6251297304e76186b10a928d   \n",
       "1  53cdb2fc8bc7dce0b6741e2150273451  b0830fb4747a6c6d20dea0b8c802d7ef   \n",
       "2  47770eb9100c2d0c44946d9cf07ec65d  41ce2a54c0b03bf3443c3d931a367089   \n",
       "3  949d5b44dbf5de918fe9c16f97b45f8a  f88197465ea7920adcdbec7375364d82   \n",
       "4  ad21c59c0840e6cb83a9ceb5573f8159  8ab97904e6daea8866dbdbc4fb7aad2c   \n",
       "\n",
       "  order_status order_purchase_timestamp    order_approved_at  \\\n",
       "0    delivered      2017-10-02 10:56:33  2017-10-02 11:07:15   \n",
       "1    delivered      2018-07-24 20:41:37  2018-07-26 03:24:27   \n",
       "2    delivered      2018-08-08 08:38:49  2018-08-08 08:55:23   \n",
       "3    delivered      2017-11-18 19:28:06  2017-11-18 19:45:59   \n",
       "4    delivered      2018-02-13 21:18:39  2018-02-13 22:20:29   \n",
       "\n",
       "  order_delivered_carrier_date order_delivered_customer_date  \\\n",
       "0          2017-10-04 19:55:00           2017-10-10 21:25:13   \n",
       "1          2018-07-26 14:31:00           2018-08-07 15:27:45   \n",
       "2          2018-08-08 13:50:00           2018-08-17 18:06:29   \n",
       "3          2017-11-22 13:39:59           2017-12-02 00:28:42   \n",
       "4          2018-02-14 19:46:34           2018-02-16 18:17:02   \n",
       "\n",
       "  order_estimated_delivery_date  \n",
       "0           2017-10-18 00:00:00  \n",
       "1           2018-08-13 00:00:00  \n",
       "2           2018-09-04 00:00:00  \n",
       "3           2017-12-15 00:00:00  \n",
       "4           2018-02-26 00:00:00  "
      ]
     },
     "execution_count": 372,
     "metadata": {},
     "output_type": "execute_result"
    }
   ],
   "source": [
    "orders.head(5)"
   ]
  },
  {
   "cell_type": "code",
   "execution_count": 373,
   "id": "fb128701",
   "metadata": {},
   "outputs": [
    {
     "data": {
      "text/html": [
       "<div>\n",
       "<style scoped>\n",
       "    .dataframe tbody tr th:only-of-type {\n",
       "        vertical-align: middle;\n",
       "    }\n",
       "\n",
       "    .dataframe tbody tr th {\n",
       "        vertical-align: top;\n",
       "    }\n",
       "\n",
       "    .dataframe thead th {\n",
       "        text-align: right;\n",
       "    }\n",
       "</style>\n",
       "<table border=\"1\" class=\"dataframe\">\n",
       "  <thead>\n",
       "    <tr style=\"text-align: right;\">\n",
       "      <th></th>\n",
       "      <th>product_id</th>\n",
       "      <th>product_category_name</th>\n",
       "      <th>product_name_lenght</th>\n",
       "      <th>product_description_lenght</th>\n",
       "      <th>product_photos_qty</th>\n",
       "      <th>product_weight_g</th>\n",
       "      <th>product_length_cm</th>\n",
       "      <th>product_height_cm</th>\n",
       "      <th>product_width_cm</th>\n",
       "    </tr>\n",
       "  </thead>\n",
       "  <tbody>\n",
       "    <tr>\n",
       "      <th>0</th>\n",
       "      <td>1e9e8ef04dbcff4541ed26657ea517e5</td>\n",
       "      <td>perfumaria</td>\n",
       "      <td>40.0</td>\n",
       "      <td>287.0</td>\n",
       "      <td>1.0</td>\n",
       "      <td>225.0</td>\n",
       "      <td>16.0</td>\n",
       "      <td>10.0</td>\n",
       "      <td>14.0</td>\n",
       "    </tr>\n",
       "    <tr>\n",
       "      <th>1</th>\n",
       "      <td>3aa071139cb16b67ca9e5dea641aaa2f</td>\n",
       "      <td>artes</td>\n",
       "      <td>44.0</td>\n",
       "      <td>276.0</td>\n",
       "      <td>1.0</td>\n",
       "      <td>1000.0</td>\n",
       "      <td>30.0</td>\n",
       "      <td>18.0</td>\n",
       "      <td>20.0</td>\n",
       "    </tr>\n",
       "    <tr>\n",
       "      <th>2</th>\n",
       "      <td>96bd76ec8810374ed1b65e291975717f</td>\n",
       "      <td>esporte_lazer</td>\n",
       "      <td>46.0</td>\n",
       "      <td>250.0</td>\n",
       "      <td>1.0</td>\n",
       "      <td>154.0</td>\n",
       "      <td>18.0</td>\n",
       "      <td>9.0</td>\n",
       "      <td>15.0</td>\n",
       "    </tr>\n",
       "    <tr>\n",
       "      <th>3</th>\n",
       "      <td>cef67bcfe19066a932b7673e239eb23d</td>\n",
       "      <td>bebes</td>\n",
       "      <td>27.0</td>\n",
       "      <td>261.0</td>\n",
       "      <td>1.0</td>\n",
       "      <td>371.0</td>\n",
       "      <td>26.0</td>\n",
       "      <td>4.0</td>\n",
       "      <td>26.0</td>\n",
       "    </tr>\n",
       "    <tr>\n",
       "      <th>4</th>\n",
       "      <td>9dc1a7de274444849c219cff195d0b71</td>\n",
       "      <td>utilidades_domesticas</td>\n",
       "      <td>37.0</td>\n",
       "      <td>402.0</td>\n",
       "      <td>4.0</td>\n",
       "      <td>625.0</td>\n",
       "      <td>20.0</td>\n",
       "      <td>17.0</td>\n",
       "      <td>13.0</td>\n",
       "    </tr>\n",
       "  </tbody>\n",
       "</table>\n",
       "</div>"
      ],
      "text/plain": [
       "                         product_id  product_category_name  \\\n",
       "0  1e9e8ef04dbcff4541ed26657ea517e5             perfumaria   \n",
       "1  3aa071139cb16b67ca9e5dea641aaa2f                  artes   \n",
       "2  96bd76ec8810374ed1b65e291975717f          esporte_lazer   \n",
       "3  cef67bcfe19066a932b7673e239eb23d                  bebes   \n",
       "4  9dc1a7de274444849c219cff195d0b71  utilidades_domesticas   \n",
       "\n",
       "   product_name_lenght  product_description_lenght  product_photos_qty  \\\n",
       "0                 40.0                       287.0                 1.0   \n",
       "1                 44.0                       276.0                 1.0   \n",
       "2                 46.0                       250.0                 1.0   \n",
       "3                 27.0                       261.0                 1.0   \n",
       "4                 37.0                       402.0                 4.0   \n",
       "\n",
       "   product_weight_g  product_length_cm  product_height_cm  product_width_cm  \n",
       "0             225.0               16.0               10.0              14.0  \n",
       "1            1000.0               30.0               18.0              20.0  \n",
       "2             154.0               18.0                9.0              15.0  \n",
       "3             371.0               26.0                4.0              26.0  \n",
       "4             625.0               20.0               17.0              13.0  "
      ]
     },
     "execution_count": 373,
     "metadata": {},
     "output_type": "execute_result"
    }
   ],
   "source": [
    "products.head(5)"
   ]
  },
  {
   "cell_type": "code",
   "execution_count": 374,
   "id": "29543a79",
   "metadata": {},
   "outputs": [
    {
     "data": {
      "text/plain": [
       "count    103886.000000\n",
       "mean        154.100380\n",
       "std         217.494064\n",
       "min           0.000000\n",
       "25%          56.790000\n",
       "50%         100.000000\n",
       "75%         171.837500\n",
       "max       13664.080000\n",
       "Name: payment_value, dtype: float64"
      ]
     },
     "execution_count": 374,
     "metadata": {},
     "output_type": "execute_result"
    }
   ],
   "source": [
    "payments[\"payment_value\"].describe()"
   ]
  },
  {
   "cell_type": "code",
   "execution_count": 375,
   "id": "5139066b",
   "metadata": {},
   "outputs": [
    {
     "data": {
      "text/plain": [
       "count    112650.000000\n",
       "mean        120.653739\n",
       "std         183.633928\n",
       "min           0.850000\n",
       "25%          39.900000\n",
       "50%          74.990000\n",
       "75%         134.900000\n",
       "max        6735.000000\n",
       "Name: price, dtype: float64"
      ]
     },
     "execution_count": 375,
     "metadata": {},
     "output_type": "execute_result"
    }
   ],
   "source": [
    "items[\"price\"].describe()"
   ]
  },
  {
   "cell_type": "code",
   "execution_count": 376,
   "id": "acfa7124",
   "metadata": {},
   "outputs": [
    {
     "data": {
      "text/plain": [
       "count    112650.000000\n",
       "mean         19.990320\n",
       "std          15.806405\n",
       "min           0.000000\n",
       "25%          13.080000\n",
       "50%          16.260000\n",
       "75%          21.150000\n",
       "max         409.680000\n",
       "Name: freight_value, dtype: float64"
      ]
     },
     "execution_count": 376,
     "metadata": {},
     "output_type": "execute_result"
    }
   ],
   "source": [
    "items[\"freight_value\"].describe()"
   ]
  },
  {
   "cell_type": "code",
   "execution_count": 377,
   "id": "f7c81f76",
   "metadata": {},
   "outputs": [
    {
     "data": {
      "text/plain": [
       "order_id                object\n",
       "order_item_id            int64\n",
       "product_id              object\n",
       "seller_id               object\n",
       "shipping_limit_date     object\n",
       "price                  float64\n",
       "freight_value          float64\n",
       "dtype: object"
      ]
     },
     "execution_count": 377,
     "metadata": {},
     "output_type": "execute_result"
    }
   ],
   "source": [
    "items.dtypes"
   ]
  },
  {
   "cell_type": "code",
   "execution_count": 378,
   "id": "82176c63",
   "metadata": {},
   "outputs": [
    {
     "data": {
      "text/plain": [
       "customer_id                 object\n",
       "customer_unique_id          object\n",
       "customer_zip_code_prefix     int64\n",
       "customer_city               object\n",
       "customer_state              object\n",
       "dtype: object"
      ]
     },
     "execution_count": 378,
     "metadata": {},
     "output_type": "execute_result"
    }
   ],
   "source": [
    "customers.dtypes"
   ]
  },
  {
   "cell_type": "code",
   "execution_count": 379,
   "id": "19cae27d",
   "metadata": {},
   "outputs": [
    {
     "data": {
      "text/plain": [
       "customer_id                   object\n",
       "customer_unique_id            object\n",
       "customer_zip_code_prefix       int64\n",
       "customer_city               category\n",
       "customer_state              category\n",
       "dtype: object"
      ]
     },
     "execution_count": 379,
     "metadata": {},
     "output_type": "execute_result"
    }
   ],
   "source": [
    "customers[\"customer_city\"] = customers[\"customer_city\"].astype(\"category\")\n",
    "customers[\"customer_state\"] = customers[\"customer_state\"].astype(\"category\")\n",
    "customers.dtypes"
   ]
  },
  {
   "cell_type": "code",
   "execution_count": 380,
   "id": "5e488e81",
   "metadata": {},
   "outputs": [
    {
     "data": {
      "text/plain": [
       "geolocation_zip_code_prefix      int64\n",
       "geolocation_lat                float64\n",
       "geolocation_lng                float64\n",
       "geolocation_city                object\n",
       "geolocation_state               object\n",
       "dtype: object"
      ]
     },
     "execution_count": 380,
     "metadata": {},
     "output_type": "execute_result"
    }
   ],
   "source": [
    "location.dtypes"
   ]
  },
  {
   "cell_type": "code",
   "execution_count": 381,
   "id": "cb0b9e05",
   "metadata": {},
   "outputs": [
    {
     "data": {
      "text/plain": [
       "geolocation_zip_code_prefix       int64\n",
       "geolocation_lat                 float64\n",
       "geolocation_lng                 float64\n",
       "geolocation_city               category\n",
       "geolocation_state              category\n",
       "dtype: object"
      ]
     },
     "execution_count": 381,
     "metadata": {},
     "output_type": "execute_result"
    }
   ],
   "source": [
    "location[\"geolocation_city\"] = location[\"geolocation_city\"].astype(\"category\")\n",
    "location[\"geolocation_state\"] = location[\"geolocation_state\"].astype(\"category\")\n",
    "location.dtypes"
   ]
  },
  {
   "cell_type": "code",
   "execution_count": 382,
   "id": "8314d128",
   "metadata": {},
   "outputs": [
    {
     "data": {
      "text/plain": [
       "order_id                 object\n",
       "payment_sequential        int64\n",
       "payment_type             object\n",
       "payment_installments      int64\n",
       "payment_value           float64\n",
       "dtype: object"
      ]
     },
     "execution_count": 382,
     "metadata": {},
     "output_type": "execute_result"
    }
   ],
   "source": [
    "payments.dtypes"
   ]
  },
  {
   "cell_type": "code",
   "execution_count": 383,
   "id": "188fe448",
   "metadata": {},
   "outputs": [
    {
     "data": {
      "text/plain": [
       "order_id                  object\n",
       "payment_sequential         int64\n",
       "payment_type            category\n",
       "payment_installments       int64\n",
       "payment_value            float64\n",
       "dtype: object"
      ]
     },
     "execution_count": 383,
     "metadata": {},
     "output_type": "execute_result"
    }
   ],
   "source": [
    "payments[\"payment_type\"] = payments[\"payment_type\"].astype(\"category\")\n",
    "payments.dtypes"
   ]
  },
  {
   "cell_type": "code",
   "execution_count": 384,
   "id": "a2270d4d",
   "metadata": {},
   "outputs": [
    {
     "data": {
      "text/plain": [
       "review_id                  object\n",
       "order_id                   object\n",
       "review_score                int64\n",
       "review_comment_title       object\n",
       "review_comment_message     object\n",
       "review_creation_date       object\n",
       "review_answer_timestamp    object\n",
       "dtype: object"
      ]
     },
     "execution_count": 384,
     "metadata": {},
     "output_type": "execute_result"
    }
   ],
   "source": [
    "reviews.dtypes"
   ]
  },
  {
   "cell_type": "code",
   "execution_count": 385,
   "id": "b6344da9",
   "metadata": {},
   "outputs": [
    {
     "data": {
      "text/plain": [
       "order_id                         object\n",
       "customer_id                      object\n",
       "order_status                     object\n",
       "order_purchase_timestamp         object\n",
       "order_approved_at                object\n",
       "order_delivered_carrier_date     object\n",
       "order_delivered_customer_date    object\n",
       "order_estimated_delivery_date    object\n",
       "dtype: object"
      ]
     },
     "execution_count": 385,
     "metadata": {},
     "output_type": "execute_result"
    }
   ],
   "source": [
    "orders.dtypes"
   ]
  },
  {
   "cell_type": "code",
   "execution_count": 386,
   "id": "a00c4215",
   "metadata": {},
   "outputs": [
    {
     "data": {
      "text/plain": [
       "order_id                           object\n",
       "customer_id                        object\n",
       "order_status                     category\n",
       "order_purchase_timestamp           object\n",
       "order_approved_at                  object\n",
       "order_delivered_carrier_date       object\n",
       "order_delivered_customer_date      object\n",
       "order_estimated_delivery_date      object\n",
       "dtype: object"
      ]
     },
     "execution_count": 386,
     "metadata": {},
     "output_type": "execute_result"
    }
   ],
   "source": [
    "orders[\"order_status\"] = orders[\"order_status\"].astype(\"category\")\n",
    "orders.dtypes"
   ]
  },
  {
   "cell_type": "code",
   "execution_count": 387,
   "id": "086d3b90",
   "metadata": {},
   "outputs": [
    {
     "data": {
      "text/plain": [
       "Index(['* cidade', '...arraial do cabo', '4o. centenario', '4º centenario',\n",
       "       'abadia de goias', 'abadia dos dourados', 'abadiania', 'abadiânia',\n",
       "       'abaete', 'abaetetuba',\n",
       "       ...\n",
       "       'águas vermelhas', 'águia branca', 'álvares florence',\n",
       "       'álvares machado', 'álvaro de carvalho', 'áurea', 'ângulo',\n",
       "       'érico cardoso', 'óbidos', 'óleo'],\n",
       "      dtype='object', length=8011)"
      ]
     },
     "execution_count": 387,
     "metadata": {},
     "output_type": "execute_result"
    }
   ],
   "source": [
    "location[\"geolocation_city\"].cat.categories"
   ]
  },
  {
   "cell_type": "code",
   "execution_count": 388,
   "id": "6394ac25",
   "metadata": {},
   "outputs": [
    {
     "data": {
      "text/plain": [
       "Index(['boleto', 'credit_card', 'debit_card', 'not_defined', 'voucher'], dtype='object')"
      ]
     },
     "execution_count": 388,
     "metadata": {},
     "output_type": "execute_result"
    }
   ],
   "source": [
    "payments[\"payment_type\"].cat.categories"
   ]
  },
  {
   "cell_type": "markdown",
   "id": "0ad196b8",
   "metadata": {},
   "source": [
    "## Tratamento de dados ausentes"
   ]
  },
  {
   "cell_type": "code",
   "execution_count": 389,
   "id": "54291659",
   "metadata": {},
   "outputs": [
    {
     "data": {
      "text/plain": [
       "(103886, 5)"
      ]
     },
     "execution_count": 389,
     "metadata": {},
     "output_type": "execute_result"
    }
   ],
   "source": [
    "payments.shape"
   ]
  },
  {
   "cell_type": "code",
   "execution_count": 390,
   "id": "fc0712b1",
   "metadata": {},
   "outputs": [
    {
     "name": "stdout",
     "output_type": "stream",
     "text": [
      "order_id                0\n",
      "payment_sequential      0\n",
      "payment_type            0\n",
      "payment_installments    0\n",
      "payment_value           0\n",
      "dtype: int64\n"
     ]
    }
   ],
   "source": [
    "print(payments.isnull().sum())"
   ]
  },
  {
   "cell_type": "code",
   "execution_count": 391,
   "id": "5a0b51c0",
   "metadata": {},
   "outputs": [
    {
     "name": "stdout",
     "output_type": "stream",
     "text": [
      "geolocation_zip_code_prefix    0\n",
      "geolocation_lat                0\n",
      "geolocation_lng                0\n",
      "geolocation_city               0\n",
      "geolocation_state              0\n",
      "dtype: int64\n"
     ]
    }
   ],
   "source": [
    "print(location.isnull().sum())"
   ]
  },
  {
   "cell_type": "code",
   "execution_count": 392,
   "id": "0ef830c6",
   "metadata": {},
   "outputs": [
    {
     "name": "stdout",
     "output_type": "stream",
     "text": [
      "review_id                      0\n",
      "order_id                       0\n",
      "review_score                   0\n",
      "review_comment_title       87656\n",
      "review_comment_message     58247\n",
      "review_creation_date           0\n",
      "review_answer_timestamp        0\n",
      "dtype: int64\n"
     ]
    }
   ],
   "source": [
    "print(reviews.isnull().sum())"
   ]
  },
  {
   "cell_type": "code",
   "execution_count": 393,
   "id": "59cccc3d",
   "metadata": {},
   "outputs": [
    {
     "name": "stdout",
     "output_type": "stream",
     "text": [
      "customer_id                 0\n",
      "customer_unique_id          0\n",
      "customer_zip_code_prefix    0\n",
      "customer_city               0\n",
      "customer_state              0\n",
      "dtype: int64\n"
     ]
    }
   ],
   "source": [
    "print(customers.isnull().sum())"
   ]
  },
  {
   "cell_type": "code",
   "execution_count": 394,
   "id": "08b54c3a",
   "metadata": {},
   "outputs": [
    {
     "name": "stdout",
     "output_type": "stream",
     "text": [
      "order_id               0\n",
      "order_item_id          0\n",
      "product_id             0\n",
      "seller_id              0\n",
      "shipping_limit_date    0\n",
      "price                  0\n",
      "freight_value          0\n",
      "dtype: int64\n"
     ]
    }
   ],
   "source": [
    "print(items.isnull().sum())"
   ]
  },
  {
   "cell_type": "code",
   "execution_count": 395,
   "id": "ec132007",
   "metadata": {},
   "outputs": [
    {
     "name": "stdout",
     "output_type": "stream",
     "text": [
      "order_id                            0\n",
      "customer_id                         0\n",
      "order_status                        0\n",
      "order_purchase_timestamp            0\n",
      "order_approved_at                 160\n",
      "order_delivered_carrier_date     1783\n",
      "order_delivered_customer_date    2965\n",
      "order_estimated_delivery_date       0\n",
      "dtype: int64\n"
     ]
    }
   ],
   "source": [
    "print(orders.isnull().sum())"
   ]
  },
  {
   "cell_type": "code",
   "execution_count": 396,
   "id": "acfa5790",
   "metadata": {},
   "outputs": [
    {
     "name": "stdout",
     "output_type": "stream",
     "text": [
      "Com nulos: (99441, 8)\n",
      "Sem Nulos: (96461, 8)\n"
     ]
    }
   ],
   "source": [
    "orders2 = orders.dropna()\n",
    "print(f\"Com nulos: {orders.shape}\\nSem Nulos: {orders2.shape}\")"
   ]
  },
  {
   "cell_type": "code",
   "execution_count": 397,
   "id": "136d0f66",
   "metadata": {},
   "outputs": [
    {
     "name": "stdout",
     "output_type": "stream",
     "text": [
      "order_id                         0\n",
      "customer_id                      0\n",
      "order_status                     0\n",
      "order_purchase_timestamp         0\n",
      "order_approved_at                0\n",
      "order_delivered_carrier_date     0\n",
      "order_delivered_customer_date    0\n",
      "order_estimated_delivery_date    0\n",
      "dtype: int64\n"
     ]
    }
   ],
   "source": [
    "print(orders2.isnull().sum())"
   ]
  },
  {
   "cell_type": "markdown",
   "id": "e2c90dd0",
   "metadata": {},
   "source": [
    "## Normalização e Discretização"
   ]
  },
  {
   "cell_type": "code",
   "execution_count": 398,
   "id": "568fd06e",
   "metadata": {},
   "outputs": [
    {
     "data": {
      "text/plain": [
       "count    112650.000000\n",
       "mean          0.017790\n",
       "std           0.027269\n",
       "min           0.000000\n",
       "25%           0.005799\n",
       "50%           0.011010\n",
       "75%           0.019906\n",
       "max           1.000000\n",
       "Name: price_norm, dtype: float64"
      ]
     },
     "execution_count": 398,
     "metadata": {},
     "output_type": "execute_result"
    }
   ],
   "source": [
    "scaler = MinMaxScaler()\n",
    "items['price_norm'] = scaler.fit_transform(items[['price']])\n",
    "items['price_norm'].describe()"
   ]
  },
  {
   "cell_type": "code",
   "execution_count": 399,
   "id": "36894771",
   "metadata": {},
   "outputs": [
    {
     "data": {
      "text/plain": [
       "count    112650.000000\n",
       "mean        120.653739\n",
       "std         183.633928\n",
       "min           0.850000\n",
       "25%          39.900000\n",
       "50%          74.990000\n",
       "75%         134.900000\n",
       "max        6735.000000\n",
       "Name: price, dtype: float64"
      ]
     },
     "execution_count": 399,
     "metadata": {},
     "output_type": "execute_result"
    }
   ],
   "source": [
    "items[\"price\"].describe()"
   ]
  },
  {
   "cell_type": "code",
   "execution_count": 400,
   "id": "360c2459",
   "metadata": {},
   "outputs": [
    {
     "data": {
      "text/plain": [
       "count    103886.000000\n",
       "mean        154.100380\n",
       "std         217.494064\n",
       "min           0.000000\n",
       "25%          56.790000\n",
       "50%         100.000000\n",
       "75%         171.837500\n",
       "max       13664.080000\n",
       "Name: payment_value, dtype: float64"
      ]
     },
     "execution_count": 400,
     "metadata": {},
     "output_type": "execute_result"
    }
   ],
   "source": [
    "payments[\"payment_value\"].describe()"
   ]
  },
  {
   "cell_type": "code",
   "execution_count": 401,
   "id": "0013764e",
   "metadata": {},
   "outputs": [],
   "source": [
    "payments[\"payment_value_dist\"] = pd.qcut(payments[\"payment_value\"],3)"
   ]
  },
  {
   "cell_type": "code",
   "execution_count": 402,
   "id": "cf2354f6",
   "metadata": {},
   "outputs": [
    {
     "data": {
      "text/plain": [
       "(-0.001, 69.04]       34645\n",
       "(69.04, 142.54]       34623\n",
       "(142.54, 13664.08]    34618\n",
       "Name: payment_value_dist, dtype: int64"
      ]
     },
     "execution_count": 402,
     "metadata": {},
     "output_type": "execute_result"
    }
   ],
   "source": [
    "payments[\"payment_value_dist\"].value_counts()"
   ]
  },
  {
   "cell_type": "code",
   "execution_count": 403,
   "id": "c8dd9eea",
   "metadata": {},
   "outputs": [
    {
     "data": {
      "text/plain": [
       "<AxesSubplot:>"
      ]
     },
     "execution_count": 403,
     "metadata": {},
     "output_type": "execute_result"
    },
    {
     "data": {
      "image/png": "[encoded data removed]",
      "text/plain": [
       "<Figure size 432x288 with 1 Axes>"
      ]
     },
     "metadata": {
      "needs_background": "light"
     },
     "output_type": "display_data"
    }
   ],
   "source": [
    "counts = payments['payment_value_dist'].value_counts()\n",
    "counts.plot.bar(rot=0)"
   ]
  },
  {
   "cell_type": "markdown",
   "id": "38782c53",
   "metadata": {},
   "source": [
    "## Limpeza de Dados (Univariado e Bivariado)"
   ]
  },
  {
   "cell_type": "markdown",
   "id": "63b9a7a0",
   "metadata": {},
   "source": [
    "### Método Z-Score Robusto"
   ]
  },
  {
   "cell_type": "code",
   "execution_count": 404,
   "id": "ed48d539",
   "metadata": {},
   "outputs": [
    {
     "data": {
      "text/plain": [
       "count     32949.000000\n",
       "mean      16564.096695\n",
       "std       27057.041650\n",
       "min         168.000000\n",
       "25%        2880.000000\n",
       "50%        6840.000000\n",
       "75%       18480.000000\n",
       "max      296208.000000\n",
       "Name: volume_cm3, dtype: float64"
      ]
     },
     "execution_count": 404,
     "metadata": {},
     "output_type": "execute_result"
    }
   ],
   "source": [
    "products[\"volume_cm3\"] = products[\"product_length_cm\"]*products[\"product_width_cm\"]*products[\"product_height_cm\"]\n",
    "products[\"volume_cm3\"].describe()"
   ]
  },
  {
   "cell_type": "code",
   "execution_count": 405,
   "id": "155f8ecb",
   "metadata": {},
   "outputs": [
    {
     "data": {
      "text/plain": [
       "<AxesSubplot:>"
      ]
     },
     "execution_count": 405,
     "metadata": {},
     "output_type": "execute_result"
    },
    {
     "data": {
      "image/png": "[encoded data removed]",
      "text/plain": [
       "<Figure size 432x288 with 1 Axes>"
      ]
     },
     "metadata": {
      "needs_background": "light"
     },
     "output_type": "display_data"
    }
   ],
   "source": [
    "products[\"volume_cm3\"].plot.box()"
   ]
  },
  {
   "cell_type": "code",
   "execution_count": 406,
   "id": "78a030a5",
   "metadata": {},
   "outputs": [
    {
     "data": {
      "text/plain": [
       "<AxesSubplot:>"
      ]
     },
     "execution_count": 406,
     "metadata": {},
     "output_type": "execute_result"
    },
    {
     "data": {
      "image/png": "[encoded data removed]",
      "text/plain": [
       "<Figure size 432x288 with 1 Axes>"
      ]
     },
     "metadata": {
      "needs_background": "light"
     },
     "output_type": "display_data"
    }
   ],
   "source": [
    "products[\"volume_cm3\"].hist()"
   ]
  },
  {
   "cell_type": "code",
   "execution_count": 407,
   "id": "296f85a5",
   "metadata": {},
   "outputs": [
    {
     "data": {
      "text/plain": [
       "<AxesSubplot:>"
      ]
     },
     "execution_count": 407,
     "metadata": {},
     "output_type": "execute_result"
    },
    {
     "data": {
      "image/png": "[encoded data removed]",
      "text/plain": [
       "<Figure size 432x288 with 1 Axes>"
      ]
     },
     "metadata": {
      "needs_background": "light"
     },
     "output_type": "display_data"
    }
   ],
   "source": [
    "from numpy import log10\n",
    "products[\"volume_cm3_log\"] = log10(products[\"volume_cm3\"])\n",
    "products[\"volume_cm3_log\"].hist()"
   ]
  },
  {
   "cell_type": "code",
   "execution_count": 408,
   "id": "f9588fb9",
   "metadata": {},
   "outputs": [
    {
     "name": "stdout",
     "output_type": "stream",
     "text": [
      "0.5985060601351057\n"
     ]
    }
   ],
   "source": [
    "from numpy import abs\n",
    "mad = abs(products[\"volume_cm3_log\"] - products[\"volume_cm3_log\"].median()).median()*(1/0.6745)\n",
    "print(mad)"
   ]
  },
  {
   "cell_type": "code",
   "execution_count": 409,
   "id": "403815d6",
   "metadata": {},
   "outputs": [
    {
     "data": {
      "text/plain": [
       "<AxesSubplot:>"
      ]
     },
     "execution_count": 409,
     "metadata": {},
     "output_type": "execute_result"
    },
    {
     "data": {
      "image/png": "[encoded data removed]",
      "text/plain": [
       "<Figure size 432x288 with 1 Axes>"
      ]
     },
     "metadata": {
      "needs_background": "light"
     },
     "output_type": "display_data"
    }
   ],
   "source": [
    "(abs(products[\"volume_cm3_log\"]-products[\"volume_cm3_log\"].median())/mad).hist()"
   ]
  },
  {
   "cell_type": "code",
   "execution_count": 410,
   "id": "ca111e1e",
   "metadata": {},
   "outputs": [
    {
     "data": {
      "text/html": [
       "<div>\n",
       "<style scoped>\n",
       "    .dataframe tbody tr th:only-of-type {\n",
       "        vertical-align: middle;\n",
       "    }\n",
       "\n",
       "    .dataframe tbody tr th {\n",
       "        vertical-align: top;\n",
       "    }\n",
       "\n",
       "    .dataframe thead th {\n",
       "        text-align: right;\n",
       "    }\n",
       "</style>\n",
       "<table border=\"1\" class=\"dataframe\">\n",
       "  <thead>\n",
       "    <tr style=\"text-align: right;\">\n",
       "      <th></th>\n",
       "      <th>product_id</th>\n",
       "      <th>product_category_name</th>\n",
       "      <th>product_name_lenght</th>\n",
       "      <th>product_description_lenght</th>\n",
       "      <th>product_photos_qty</th>\n",
       "      <th>product_weight_g</th>\n",
       "      <th>product_length_cm</th>\n",
       "      <th>product_height_cm</th>\n",
       "      <th>product_width_cm</th>\n",
       "      <th>volume_cm3</th>\n",
       "      <th>volume_cm3_log</th>\n",
       "    </tr>\n",
       "  </thead>\n",
       "  <tbody>\n",
       "  </tbody>\n",
       "</table>\n",
       "</div>"
      ],
      "text/plain": [
       "Empty DataFrame\n",
       "Columns: [product_id, product_category_name, product_name_lenght, product_description_lenght, product_photos_qty, product_weight_g, product_length_cm, product_height_cm, product_width_cm, volume_cm3, volume_cm3_log]\n",
       "Index: []"
      ]
     },
     "execution_count": 410,
     "metadata": {},
     "output_type": "execute_result"
    }
   ],
   "source": [
    "products[abs(products[\"volume_cm3_log\"]-products[\"volume_cm3_log\"].median())/mad > 3]"
   ]
  },
  {
   "cell_type": "code",
   "execution_count": 411,
   "id": "d20732ba",
   "metadata": {},
   "outputs": [
    {
     "name": "stdout",
     "output_type": "stream",
     "text": [
      "32949\n"
     ]
    }
   ],
   "source": [
    "products = products[abs(products[\"volume_cm3_log\"]-products[\"volume_cm3_log\"].median())/mad < 3]\n",
    "print(len(products))"
   ]
  },
  {
   "cell_type": "markdown",
   "id": "e833db60",
   "metadata": {},
   "source": [
    "### Método de Tukey"
   ]
  },
  {
   "cell_type": "code",
   "execution_count": 412,
   "id": "c97e9726",
   "metadata": {},
   "outputs": [
    {
     "data": {
      "text/plain": [
       "<AxesSubplot:>"
      ]
     },
     "execution_count": 412,
     "metadata": {},
     "output_type": "execute_result"
    },
    {
     "data": {
      "image/png": "[encoded data removed]",
      "text/plain": [
       "<Figure size 432x288 with 1 Axes>"
      ]
     },
     "metadata": {
      "needs_background": "light"
     },
     "output_type": "display_data"
    }
   ],
   "source": [
    "items[\"price\"].hist()"
   ]
  },
  {
   "cell_type": "code",
   "execution_count": 413,
   "id": "42246d51",
   "metadata": {},
   "outputs": [
    {
     "data": {
      "text/plain": [
       "<AxesSubplot:>"
      ]
     },
     "execution_count": 413,
     "metadata": {},
     "output_type": "execute_result"
    },
    {
     "data": {
      "image/png": "[encoded data removed]",
      "text/plain": [
       "<Figure size 432x288 with 1 Axes>"
      ]
     },
     "metadata": {
      "needs_background": "light"
     },
     "output_type": "display_data"
    }
   ],
   "source": [
    "items[\"price_log\"] = log10(items[\"price\"])\n",
    "items[\"price_log\"].hist()"
   ]
  },
  {
   "cell_type": "code",
   "execution_count": 414,
   "id": "5197e0db",
   "metadata": {},
   "outputs": [
    {
     "name": "stdout",
     "output_type": "stream",
     "text": [
      "0.5290390539851562\n"
     ]
    }
   ],
   "source": [
    "q1 = items[\"price_log\"].quantile(q=0.25)\n",
    "q3 = items[\"price_log\"].quantile(q=0.75)\n",
    "iqr = q3 - q1\n",
    "print(iqr)"
   ]
  },
  {
   "cell_type": "code",
   "execution_count": 415,
   "id": "40f6699a",
   "metadata": {},
   "outputs": [
    {
     "data": {
      "text/html": [
       "<div>\n",
       "<style scoped>\n",
       "    .dataframe tbody tr th:only-of-type {\n",
       "        vertical-align: middle;\n",
       "    }\n",
       "\n",
       "    .dataframe tbody tr th {\n",
       "        vertical-align: top;\n",
       "    }\n",
       "\n",
       "    .dataframe thead th {\n",
       "        text-align: right;\n",
       "    }\n",
       "</style>\n",
       "<table border=\"1\" class=\"dataframe\">\n",
       "  <thead>\n",
       "    <tr style=\"text-align: right;\">\n",
       "      <th></th>\n",
       "      <th>order_id</th>\n",
       "      <th>order_item_id</th>\n",
       "      <th>product_id</th>\n",
       "      <th>seller_id</th>\n",
       "      <th>shipping_limit_date</th>\n",
       "      <th>price</th>\n",
       "      <th>freight_value</th>\n",
       "      <th>price_norm</th>\n",
       "      <th>price_log</th>\n",
       "    </tr>\n",
       "  </thead>\n",
       "  <tbody>\n",
       "    <tr>\n",
       "      <th>532</th>\n",
       "      <td>0136390286be8a34efdc801ed150568f</td>\n",
       "      <td>1</td>\n",
       "      <td>1716ea399ed8ee62ba811e6f55180f45</td>\n",
       "      <td>6338ea67c41078a46ad99cc009654956</td>\n",
       "      <td>2017-07-20 12:35:15</td>\n",
       "      <td>3.49</td>\n",
       "      <td>16.79</td>\n",
       "      <td>0.000392</td>\n",
       "      <td>0.542825</td>\n",
       "    </tr>\n",
       "    <tr>\n",
       "      <th>533</th>\n",
       "      <td>0136390286be8a34efdc801ed150568f</td>\n",
       "      <td>2</td>\n",
       "      <td>1716ea399ed8ee62ba811e6f55180f45</td>\n",
       "      <td>6338ea67c41078a46ad99cc009654956</td>\n",
       "      <td>2017-07-20 12:35:15</td>\n",
       "      <td>3.49</td>\n",
       "      <td>16.79</td>\n",
       "      <td>0.000392</td>\n",
       "      <td>0.542825</td>\n",
       "    </tr>\n",
       "    <tr>\n",
       "      <th>558</th>\n",
       "      <td>0148d3df00cebda592d4e5f966e300cc</td>\n",
       "      <td>1</td>\n",
       "      <td>ed08ea04c92f5f434c2362f7310fb328</td>\n",
       "      <td>0adac9fbd9a2b63cccaac4f8756c1ca8</td>\n",
       "      <td>2017-08-24 19:24:32</td>\n",
       "      <td>5.53</td>\n",
       "      <td>11.85</td>\n",
       "      <td>0.000695</td>\n",
       "      <td>0.742725</td>\n",
       "    </tr>\n",
       "    <tr>\n",
       "      <th>559</th>\n",
       "      <td>0148d3df00cebda592d4e5f966e300cc</td>\n",
       "      <td>2</td>\n",
       "      <td>ed08ea04c92f5f434c2362f7310fb328</td>\n",
       "      <td>0adac9fbd9a2b63cccaac4f8756c1ca8</td>\n",
       "      <td>2017-08-24 19:24:32</td>\n",
       "      <td>5.53</td>\n",
       "      <td>11.85</td>\n",
       "      <td>0.000695</td>\n",
       "      <td>0.742725</td>\n",
       "    </tr>\n",
       "    <tr>\n",
       "      <th>560</th>\n",
       "      <td>0148d3df00cebda592d4e5f966e300cc</td>\n",
       "      <td>3</td>\n",
       "      <td>ed08ea04c92f5f434c2362f7310fb328</td>\n",
       "      <td>0adac9fbd9a2b63cccaac4f8756c1ca8</td>\n",
       "      <td>2017-08-24 19:24:32</td>\n",
       "      <td>5.53</td>\n",
       "      <td>11.85</td>\n",
       "      <td>0.000695</td>\n",
       "      <td>0.742725</td>\n",
       "    </tr>\n",
       "    <tr>\n",
       "      <th>...</th>\n",
       "      <td>...</td>\n",
       "      <td>...</td>\n",
       "      <td>...</td>\n",
       "      <td>...</td>\n",
       "      <td>...</td>\n",
       "      <td>...</td>\n",
       "      <td>...</td>\n",
       "      <td>...</td>\n",
       "      <td>...</td>\n",
       "    </tr>\n",
       "    <tr>\n",
       "      <th>109923</th>\n",
       "      <td>f9ccaff7267fd0cf076e795b1fae8b69</td>\n",
       "      <td>1</td>\n",
       "      <td>44d53f1240d6332232e4393c06500475</td>\n",
       "      <td>b64d51f0435e884e8de603b1655155ae</td>\n",
       "      <td>2018-08-14 14:04:44</td>\n",
       "      <td>3.00</td>\n",
       "      <td>15.23</td>\n",
       "      <td>0.000319</td>\n",
       "      <td>0.477121</td>\n",
       "    </tr>\n",
       "    <tr>\n",
       "      <th>109925</th>\n",
       "      <td>f9cda286ca417062ff15bf5d63fbc70c</td>\n",
       "      <td>1</td>\n",
       "      <td>1ac94144a305b4bc370804ca0d290490</td>\n",
       "      <td>138dbe45fc62f1e244378131a6801526</td>\n",
       "      <td>2018-05-25 17:56:47</td>\n",
       "      <td>5.90</td>\n",
       "      <td>18.23</td>\n",
       "      <td>0.000750</td>\n",
       "      <td>0.770852</td>\n",
       "    </tr>\n",
       "    <tr>\n",
       "      <th>110855</th>\n",
       "      <td>fbe00a3fcc28965ba29bbe674f7672e6</td>\n",
       "      <td>1</td>\n",
       "      <td>50504a602afeb7a2822ea65f1bed8f36</td>\n",
       "      <td>1127b7f2594683f2510f1c2c834a486b</td>\n",
       "      <td>2017-08-31 11:30:10</td>\n",
       "      <td>6.35</td>\n",
       "      <td>7.78</td>\n",
       "      <td>0.000817</td>\n",
       "      <td>0.802774</td>\n",
       "    </tr>\n",
       "    <tr>\n",
       "      <th>112473</th>\n",
       "      <td>ff96ea4ad10c612930198ecb923eb7a9</td>\n",
       "      <td>1</td>\n",
       "      <td>d5d7ab11292e030edb97398b69235779</td>\n",
       "      <td>0c7533c71df861ec58ad7ff999ed0e8d</td>\n",
       "      <td>2017-10-01 21:49:53</td>\n",
       "      <td>6.30</td>\n",
       "      <td>7.78</td>\n",
       "      <td>0.000809</td>\n",
       "      <td>0.799341</td>\n",
       "    </tr>\n",
       "    <tr>\n",
       "      <th>112638</th>\n",
       "      <td>fffb0b1a50e65c449020434fa835e078</td>\n",
       "      <td>1</td>\n",
       "      <td>e7be84ea9462aac5e2b0b08eb35ba7f1</td>\n",
       "      <td>36a968b544695394e4e9d7572688598f</td>\n",
       "      <td>2017-04-28 16:45:12</td>\n",
       "      <td>4.90</td>\n",
       "      <td>10.96</td>\n",
       "      <td>0.000601</td>\n",
       "      <td>0.690196</td>\n",
       "    </tr>\n",
       "  </tbody>\n",
       "</table>\n",
       "<p>296 rows × 9 columns</p>\n",
       "</div>"
      ],
      "text/plain": [
       "                                order_id  order_item_id  \\\n",
       "532     0136390286be8a34efdc801ed150568f              1   \n",
       "533     0136390286be8a34efdc801ed150568f              2   \n",
       "558     0148d3df00cebda592d4e5f966e300cc              1   \n",
       "559     0148d3df00cebda592d4e5f966e300cc              2   \n",
       "560     0148d3df00cebda592d4e5f966e300cc              3   \n",
       "...                                  ...            ...   \n",
       "109923  f9ccaff7267fd0cf076e795b1fae8b69              1   \n",
       "109925  f9cda286ca417062ff15bf5d63fbc70c              1   \n",
       "110855  fbe00a3fcc28965ba29bbe674f7672e6              1   \n",
       "112473  ff96ea4ad10c612930198ecb923eb7a9              1   \n",
       "112638  fffb0b1a50e65c449020434fa835e078              1   \n",
       "\n",
       "                              product_id                         seller_id  \\\n",
       "532     1716ea399ed8ee62ba811e6f55180f45  6338ea67c41078a46ad99cc009654956   \n",
       "533     1716ea399ed8ee62ba811e6f55180f45  6338ea67c41078a46ad99cc009654956   \n",
       "558     ed08ea04c92f5f434c2362f7310fb328  0adac9fbd9a2b63cccaac4f8756c1ca8   \n",
       "559     ed08ea04c92f5f434c2362f7310fb328  0adac9fbd9a2b63cccaac4f8756c1ca8   \n",
       "560     ed08ea04c92f5f434c2362f7310fb328  0adac9fbd9a2b63cccaac4f8756c1ca8   \n",
       "...                                  ...                               ...   \n",
       "109923  44d53f1240d6332232e4393c06500475  b64d51f0435e884e8de603b1655155ae   \n",
       "109925  1ac94144a305b4bc370804ca0d290490  138dbe45fc62f1e244378131a6801526   \n",
       "110855  50504a602afeb7a2822ea65f1bed8f36  1127b7f2594683f2510f1c2c834a486b   \n",
       "112473  d5d7ab11292e030edb97398b69235779  0c7533c71df861ec58ad7ff999ed0e8d   \n",
       "112638  e7be84ea9462aac5e2b0b08eb35ba7f1  36a968b544695394e4e9d7572688598f   \n",
       "\n",
       "        shipping_limit_date  price  freight_value  price_norm  price_log  \n",
       "532     2017-07-20 12:35:15   3.49          16.79    0.000392   0.542825  \n",
       "533     2017-07-20 12:35:15   3.49          16.79    0.000392   0.542825  \n",
       "558     2017-08-24 19:24:32   5.53          11.85    0.000695   0.742725  \n",
       "559     2017-08-24 19:24:32   5.53          11.85    0.000695   0.742725  \n",
       "560     2017-08-24 19:24:32   5.53          11.85    0.000695   0.742725  \n",
       "...                     ...    ...            ...         ...        ...  \n",
       "109923  2018-08-14 14:04:44   3.00          15.23    0.000319   0.477121  \n",
       "109925  2018-05-25 17:56:47   5.90          18.23    0.000750   0.770852  \n",
       "110855  2017-08-31 11:30:10   6.35           7.78    0.000817   0.802774  \n",
       "112473  2017-10-01 21:49:53   6.30           7.78    0.000809   0.799341  \n",
       "112638  2017-04-28 16:45:12   4.90          10.96    0.000601   0.690196  \n",
       "\n",
       "[296 rows x 9 columns]"
      ]
     },
     "execution_count": 415,
     "metadata": {},
     "output_type": "execute_result"
    }
   ],
   "source": [
    "items[items[\"price_log\"] < (q1-1.5*iqr)]"
   ]
  },
  {
   "cell_type": "code",
   "execution_count": 416,
   "id": "be88eb49",
   "metadata": {},
   "outputs": [
    {
     "data": {
      "text/html": [
       "<div>\n",
       "<style scoped>\n",
       "    .dataframe tbody tr th:only-of-type {\n",
       "        vertical-align: middle;\n",
       "    }\n",
       "\n",
       "    .dataframe tbody tr th {\n",
       "        vertical-align: top;\n",
       "    }\n",
       "\n",
       "    .dataframe thead th {\n",
       "        text-align: right;\n",
       "    }\n",
       "</style>\n",
       "<table border=\"1\" class=\"dataframe\">\n",
       "  <thead>\n",
       "    <tr style=\"text-align: right;\">\n",
       "      <th></th>\n",
       "      <th>order_id</th>\n",
       "      <th>order_item_id</th>\n",
       "      <th>product_id</th>\n",
       "      <th>seller_id</th>\n",
       "      <th>shipping_limit_date</th>\n",
       "      <th>price</th>\n",
       "      <th>freight_value</th>\n",
       "      <th>price_norm</th>\n",
       "      <th>price_log</th>\n",
       "    </tr>\n",
       "  </thead>\n",
       "  <tbody>\n",
       "    <tr>\n",
       "      <th>322</th>\n",
       "      <td>00c9474e0334f7a4ffc8c3a8bd21a51e</td>\n",
       "      <td>1</td>\n",
       "      <td>4b2653088591de362e6ba85b4a474c75</td>\n",
       "      <td>610f72e407cdd7caaa2f8167b0163fd8</td>\n",
       "      <td>2018-05-10 15:50:46</td>\n",
       "      <td>1050.61</td>\n",
       "      <td>25.13</td>\n",
       "      <td>0.155886</td>\n",
       "      <td>3.021442</td>\n",
       "    </tr>\n",
       "    <tr>\n",
       "      <th>344</th>\n",
       "      <td>00d2559e61b9a0744a0552c35c5ecccb</td>\n",
       "      <td>1</td>\n",
       "      <td>44fc450365728c413fefc547592626be</td>\n",
       "      <td>b839e41795b7f3ad94cc2014a52f6796</td>\n",
       "      <td>2018-06-13 12:57:03</td>\n",
       "      <td>849.00</td>\n",
       "      <td>23.52</td>\n",
       "      <td>0.125948</td>\n",
       "      <td>2.928908</td>\n",
       "    </tr>\n",
       "    <tr>\n",
       "      <th>475</th>\n",
       "      <td>011a43bc9bb525517251ebb3ebc99b69</td>\n",
       "      <td>1</td>\n",
       "      <td>ca7966fa77959536468be3c6ce1f19e1</td>\n",
       "      <td>610f72e407cdd7caaa2f8167b0163fd8</td>\n",
       "      <td>2018-05-03 18:09:38</td>\n",
       "      <td>899.00</td>\n",
       "      <td>21.20</td>\n",
       "      <td>0.133372</td>\n",
       "      <td>2.953760</td>\n",
       "    </tr>\n",
       "    <tr>\n",
       "      <th>518</th>\n",
       "      <td>012f2c4ca09b101a73e18957c3294cd6</td>\n",
       "      <td>1</td>\n",
       "      <td>a9e9edb1bcac585bfbfa381ce40e5d99</td>\n",
       "      <td>06532f10282704ef4c69168b914b77be</td>\n",
       "      <td>2017-05-11 22:35:11</td>\n",
       "      <td>1820.00</td>\n",
       "      <td>81.62</td>\n",
       "      <td>0.270138</td>\n",
       "      <td>3.260071</td>\n",
       "    </tr>\n",
       "    <tr>\n",
       "      <th>865</th>\n",
       "      <td>02014f2495eef0e869616829d481d743</td>\n",
       "      <td>1</td>\n",
       "      <td>43cc8e4d981bc04b9d78b12e8a908d41</td>\n",
       "      <td>6061155addc1e54b4cfb51c1c2a32ad8</td>\n",
       "      <td>2018-08-24 11:05:25</td>\n",
       "      <td>1240.00</td>\n",
       "      <td>102.63</td>\n",
       "      <td>0.184010</td>\n",
       "      <td>3.093422</td>\n",
       "    </tr>\n",
       "    <tr>\n",
       "      <th>...</th>\n",
       "      <td>...</td>\n",
       "      <td>...</td>\n",
       "      <td>...</td>\n",
       "      <td>...</td>\n",
       "      <td>...</td>\n",
       "      <td>...</td>\n",
       "      <td>...</td>\n",
       "      <td>...</td>\n",
       "      <td>...</td>\n",
       "    </tr>\n",
       "    <tr>\n",
       "      <th>112233</th>\n",
       "      <td>fefacc66af859508bf1a7934eab1e97f</td>\n",
       "      <td>1</td>\n",
       "      <td>69c590f7ffc7bf8db97190b6cb6ed62e</td>\n",
       "      <td>80ceebb4ee9b31afb6c6a916a574a1e2</td>\n",
       "      <td>2018-08-02 04:05:13</td>\n",
       "      <td>6729.00</td>\n",
       "      <td>193.21</td>\n",
       "      <td>0.999109</td>\n",
       "      <td>3.827951</td>\n",
       "    </tr>\n",
       "    <tr>\n",
       "      <th>112264</th>\n",
       "      <td>ff098b9342213641be5da8163f0fcf2c</td>\n",
       "      <td>1</td>\n",
       "      <td>a5215a7a9f46c4185b12f38e9ddf2abc</td>\n",
       "      <td>53243585a1d6dc2643021fd1853d8905</td>\n",
       "      <td>2017-11-09 05:05:35</td>\n",
       "      <td>1340.00</td>\n",
       "      <td>33.83</td>\n",
       "      <td>0.198860</td>\n",
       "      <td>3.127105</td>\n",
       "    </tr>\n",
       "    <tr>\n",
       "      <th>112319</th>\n",
       "      <td>ff2ac13b0f36dffb6af9699f59b18377</td>\n",
       "      <td>1</td>\n",
       "      <td>fb8c11da2e1b1634e879d1c3c6762dc2</td>\n",
       "      <td>53243585a1d6dc2643021fd1853d8905</td>\n",
       "      <td>2017-09-11 14:35:25</td>\n",
       "      <td>850.00</td>\n",
       "      <td>35.36</td>\n",
       "      <td>0.126096</td>\n",
       "      <td>2.929419</td>\n",
       "    </tr>\n",
       "    <tr>\n",
       "      <th>112324</th>\n",
       "      <td>ff2d25d8b1b734099dee10e90e23a2ab</td>\n",
       "      <td>1</td>\n",
       "      <td>98fe8fcab3c57495e05a61bf5946f2a0</td>\n",
       "      <td>b2ac621f0d0322434d04a12b078b9369</td>\n",
       "      <td>2017-10-17 12:56:16</td>\n",
       "      <td>935.00</td>\n",
       "      <td>31.58</td>\n",
       "      <td>0.138718</td>\n",
       "      <td>2.970812</td>\n",
       "    </tr>\n",
       "    <tr>\n",
       "      <th>112449</th>\n",
       "      <td>ff85c3e4329457e83cb474799a257ccc</td>\n",
       "      <td>1</td>\n",
       "      <td>144266e1585320d057797a369596bb8b</td>\n",
       "      <td>850f4f8af5ea87287ac68de36e29107f</td>\n",
       "      <td>2018-01-24 16:57:45</td>\n",
       "      <td>899.00</td>\n",
       "      <td>17.50</td>\n",
       "      <td>0.133372</td>\n",
       "      <td>2.953760</td>\n",
       "    </tr>\n",
       "  </tbody>\n",
       "</table>\n",
       "<p>1282 rows × 9 columns</p>\n",
       "</div>"
      ],
      "text/plain": [
       "                                order_id  order_item_id  \\\n",
       "322     00c9474e0334f7a4ffc8c3a8bd21a51e              1   \n",
       "344     00d2559e61b9a0744a0552c35c5ecccb              1   \n",
       "475     011a43bc9bb525517251ebb3ebc99b69              1   \n",
       "518     012f2c4ca09b101a73e18957c3294cd6              1   \n",
       "865     02014f2495eef0e869616829d481d743              1   \n",
       "...                                  ...            ...   \n",
       "112233  fefacc66af859508bf1a7934eab1e97f              1   \n",
       "112264  ff098b9342213641be5da8163f0fcf2c              1   \n",
       "112319  ff2ac13b0f36dffb6af9699f59b18377              1   \n",
       "112324  ff2d25d8b1b734099dee10e90e23a2ab              1   \n",
       "112449  ff85c3e4329457e83cb474799a257ccc              1   \n",
       "\n",
       "                              product_id                         seller_id  \\\n",
       "322     4b2653088591de362e6ba85b4a474c75  610f72e407cdd7caaa2f8167b0163fd8   \n",
       "344     44fc450365728c413fefc547592626be  b839e41795b7f3ad94cc2014a52f6796   \n",
       "475     ca7966fa77959536468be3c6ce1f19e1  610f72e407cdd7caaa2f8167b0163fd8   \n",
       "518     a9e9edb1bcac585bfbfa381ce40e5d99  06532f10282704ef4c69168b914b77be   \n",
       "865     43cc8e4d981bc04b9d78b12e8a908d41  6061155addc1e54b4cfb51c1c2a32ad8   \n",
       "...                                  ...                               ...   \n",
       "112233  69c590f7ffc7bf8db97190b6cb6ed62e  80ceebb4ee9b31afb6c6a916a574a1e2   \n",
       "112264  a5215a7a9f46c4185b12f38e9ddf2abc  53243585a1d6dc2643021fd1853d8905   \n",
       "112319  fb8c11da2e1b1634e879d1c3c6762dc2  53243585a1d6dc2643021fd1853d8905   \n",
       "112324  98fe8fcab3c57495e05a61bf5946f2a0  b2ac621f0d0322434d04a12b078b9369   \n",
       "112449  144266e1585320d057797a369596bb8b  850f4f8af5ea87287ac68de36e29107f   \n",
       "\n",
       "        shipping_limit_date    price  freight_value  price_norm  price_log  \n",
       "322     2018-05-10 15:50:46  1050.61          25.13    0.155886   3.021442  \n",
       "344     2018-06-13 12:57:03   849.00          23.52    0.125948   2.928908  \n",
       "475     2018-05-03 18:09:38   899.00          21.20    0.133372   2.953760  \n",
       "518     2017-05-11 22:35:11  1820.00          81.62    0.270138   3.260071  \n",
       "865     2018-08-24 11:05:25  1240.00         102.63    0.184010   3.093422  \n",
       "...                     ...      ...            ...         ...        ...  \n",
       "112233  2018-08-02 04:05:13  6729.00         193.21    0.999109   3.827951  \n",
       "112264  2017-11-09 05:05:35  1340.00          33.83    0.198860   3.127105  \n",
       "112319  2017-09-11 14:35:25   850.00          35.36    0.126096   2.929419  \n",
       "112324  2017-10-17 12:56:16   935.00          31.58    0.138718   2.970812  \n",
       "112449  2018-01-24 16:57:45   899.00          17.50    0.133372   2.953760  \n",
       "\n",
       "[1282 rows x 9 columns]"
      ]
     },
     "execution_count": 416,
     "metadata": {},
     "output_type": "execute_result"
    }
   ],
   "source": [
    "items[items[\"price_log\"] > (q3+1.5*iqr)]"
   ]
  },
  {
   "cell_type": "code",
   "execution_count": 417,
   "id": "a778b1df",
   "metadata": {},
   "outputs": [
    {
     "data": {
      "text/plain": [
       "111072"
      ]
     },
     "execution_count": 417,
     "metadata": {},
     "output_type": "execute_result"
    }
   ],
   "source": [
    "items = items[(items[\"price_log\"] > (q1-1.5*iqr)) & (items[\"price_log\"] < (q3+1.5*iqr))]\n",
    "len(items)"
   ]
  },
  {
   "cell_type": "markdown",
   "id": "e9318e5b",
   "metadata": {},
   "source": [
    "### Bivariado"
   ]
  },
  {
   "cell_type": "code",
   "execution_count": 418,
   "id": "d7316a17",
   "metadata": {},
   "outputs": [
    {
     "data": {
      "text/plain": [
       "<AxesSubplot:xlabel='volume_cm3', ylabel='product_weight_g'>"
      ]
     },
     "execution_count": 418,
     "metadata": {},
     "output_type": "execute_result"
    },
    {
     "data": {
      "image/png": "[encoded data removed]",
      "text/plain": [
       "<Figure size 432x288 with 1 Axes>"
      ]
     },
     "metadata": {
      "needs_background": "light"
     },
     "output_type": "display_data"
    }
   ],
   "source": [
    "products.plot.scatter(x=\"volume_cm3\",y=\"product_weight_g\")"
   ]
  },
  {
   "cell_type": "code",
   "execution_count": 419,
   "id": "2fdd7bac",
   "metadata": {},
   "outputs": [
    {
     "data": {
      "text/plain": [
       "32949"
      ]
     },
     "execution_count": 419,
     "metadata": {},
     "output_type": "execute_result"
    }
   ],
   "source": [
    "len(products)"
   ]
  },
  {
   "cell_type": "code",
   "execution_count": 420,
   "id": "e2a95fc5",
   "metadata": {},
   "outputs": [
    {
     "data": {
      "text/plain": [
       "32945"
      ]
     },
     "execution_count": 420,
     "metadata": {},
     "output_type": "execute_result"
    }
   ],
   "source": [
    "filter_zero = products[\"product_weight_g\"] != 0\n",
    "products = products[filter_zero]\n",
    "len(products)"
   ]
  },
  {
   "cell_type": "code",
   "execution_count": 421,
   "id": "88846e15",
   "metadata": {},
   "outputs": [
    {
     "name": "stderr",
     "output_type": "stream",
     "text": [
      "C:\\Users\\caioc\\AppData\\Local\\Temp/ipykernel_5396/3105620374.py:1: SettingWithCopyWarning: \n",
      "A value is trying to be set on a copy of a slice from a DataFrame.\n",
      "Try using .loc[row_indexer,col_indexer] = value instead\n",
      "\n",
      "See the caveats in the documentation: https://pandas.pydata.org/pandas-docs/stable/user_guide/indexing.html#returning-a-view-versus-a-copy\n",
      "  products[\"density\"] = products[\"product_weight_g\"]/products[\"volume_cm3\"]\n"
     ]
    },
    {
     "data": {
      "text/plain": [
       "count    32945.000000\n",
       "mean         0.203714\n",
       "std          1.009329\n",
       "min          0.000220\n",
       "25%          0.066204\n",
       "50%          0.116550\n",
       "75%          0.195869\n",
       "max         85.227273\n",
       "Name: density, dtype: float64"
      ]
     },
     "execution_count": 421,
     "metadata": {},
     "output_type": "execute_result"
    }
   ],
   "source": [
    "products[\"density\"] = products[\"product_weight_g\"]/products[\"volume_cm3\"]\n",
    "products[\"density\"].describe()"
   ]
  },
  {
   "cell_type": "code",
   "execution_count": 422,
   "id": "14619899",
   "metadata": {},
   "outputs": [
    {
     "data": {
      "text/plain": [
       "<AxesSubplot:>"
      ]
     },
     "execution_count": 422,
     "metadata": {},
     "output_type": "execute_result"
    },
    {
     "data": {
      "image/png": "[encoded data removed]",
      "text/plain": [
       "<Figure size 432x288 with 1 Axes>"
      ]
     },
     "metadata": {
      "needs_background": "light"
     },
     "output_type": "display_data"
    }
   ],
   "source": [
    "products[\"density\"].plot.box()"
   ]
  },
  {
   "cell_type": "code",
   "execution_count": 423,
   "id": "49cc91c7",
   "metadata": {},
   "outputs": [
    {
     "data": {
      "text/plain": [
       "<AxesSubplot:>"
      ]
     },
     "execution_count": 423,
     "metadata": {},
     "output_type": "execute_result"
    },
    {
     "data": {
      "image/png": "[encoded data removed]",
      "text/plain": [
       "<Figure size 432x288 with 1 Axes>"
      ]
     },
     "metadata": {
      "needs_background": "light"
     },
     "output_type": "display_data"
    }
   ],
   "source": [
    "products[\"density\"].hist()"
   ]
  },
  {
   "cell_type": "code",
   "execution_count": 424,
   "id": "a6031503",
   "metadata": {},
   "outputs": [
    {
     "name": "stderr",
     "output_type": "stream",
     "text": [
      "C:\\Users\\caioc\\AppData\\Local\\Temp/ipykernel_5396/1678846686.py:1: SettingWithCopyWarning: \n",
      "A value is trying to be set on a copy of a slice from a DataFrame.\n",
      "Try using .loc[row_indexer,col_indexer] = value instead\n",
      "\n",
      "See the caveats in the documentation: https://pandas.pydata.org/pandas-docs/stable/user_guide/indexing.html#returning-a-view-versus-a-copy\n",
      "  products[\"density\"] = log10(products[\"density\"])\n"
     ]
    }
   ],
   "source": [
    "products[\"density\"] = log10(products[\"density\"])"
   ]
  },
  {
   "cell_type": "code",
   "execution_count": 425,
   "id": "b20c697e",
   "metadata": {},
   "outputs": [],
   "source": [
    "mad = abs(products[\"density\"] - products[\"density\"].median()).median()*(1/0.6745)"
   ]
  },
  {
   "cell_type": "code",
   "execution_count": 426,
   "id": "c3247617",
   "metadata": {},
   "outputs": [
    {
     "data": {
      "text/plain": [
       "<AxesSubplot:>"
      ]
     },
     "execution_count": 426,
     "metadata": {},
     "output_type": "execute_result"
    },
    {
     "data": {
      "image/png": "[encoded data removed]",
      "text/plain": [
       "<Figure size 432x288 with 1 Axes>"
      ]
     },
     "metadata": {
      "needs_background": "light"
     },
     "output_type": "display_data"
    }
   ],
   "source": [
    "(abs(products[\"density\"] -products[\"density\"] .median())/mad).hist()"
   ]
  },
  {
   "cell_type": "code",
   "execution_count": 427,
   "id": "bd83dcd1",
   "metadata": {},
   "outputs": [
    {
     "data": {
      "text/html": [
       "<div>\n",
       "<style scoped>\n",
       "    .dataframe tbody tr th:only-of-type {\n",
       "        vertical-align: middle;\n",
       "    }\n",
       "\n",
       "    .dataframe tbody tr th {\n",
       "        vertical-align: top;\n",
       "    }\n",
       "\n",
       "    .dataframe thead th {\n",
       "        text-align: right;\n",
       "    }\n",
       "</style>\n",
       "<table border=\"1\" class=\"dataframe\">\n",
       "  <thead>\n",
       "    <tr style=\"text-align: right;\">\n",
       "      <th></th>\n",
       "      <th>product_id</th>\n",
       "      <th>product_category_name</th>\n",
       "      <th>product_name_lenght</th>\n",
       "      <th>product_description_lenght</th>\n",
       "      <th>product_photos_qty</th>\n",
       "      <th>product_weight_g</th>\n",
       "      <th>product_length_cm</th>\n",
       "      <th>product_height_cm</th>\n",
       "      <th>product_width_cm</th>\n",
       "      <th>volume_cm3</th>\n",
       "      <th>volume_cm3_log</th>\n",
       "      <th>density</th>\n",
       "    </tr>\n",
       "  </thead>\n",
       "  <tbody>\n",
       "    <tr>\n",
       "      <th>15</th>\n",
       "      <td>3bb7f144022e6732727d8d838a7b13b3</td>\n",
       "      <td>esporte_lazer</td>\n",
       "      <td>22.0</td>\n",
       "      <td>3021.0</td>\n",
       "      <td>1.0</td>\n",
       "      <td>800.0</td>\n",
       "      <td>16.0</td>\n",
       "      <td>2.0</td>\n",
       "      <td>11.0</td>\n",
       "      <td>352.0</td>\n",
       "      <td>2.546543</td>\n",
       "      <td>0.356547</td>\n",
       "    </tr>\n",
       "    <tr>\n",
       "      <th>192</th>\n",
       "      <td>43724b27731595d954e911f443fb1cc4</td>\n",
       "      <td>construcao_ferramentas_construcao</td>\n",
       "      <td>57.0</td>\n",
       "      <td>272.0</td>\n",
       "      <td>1.0</td>\n",
       "      <td>2200.0</td>\n",
       "      <td>16.0</td>\n",
       "      <td>2.0</td>\n",
       "      <td>11.0</td>\n",
       "      <td>352.0</td>\n",
       "      <td>2.546543</td>\n",
       "      <td>0.795880</td>\n",
       "    </tr>\n",
       "    <tr>\n",
       "      <th>244</th>\n",
       "      <td>e10758160da97891c2fdcbc35f0f031d</td>\n",
       "      <td>NaN</td>\n",
       "      <td>NaN</td>\n",
       "      <td>NaN</td>\n",
       "      <td>NaN</td>\n",
       "      <td>2200.0</td>\n",
       "      <td>16.0</td>\n",
       "      <td>2.0</td>\n",
       "      <td>11.0</td>\n",
       "      <td>352.0</td>\n",
       "      <td>2.546543</td>\n",
       "      <td>0.795880</td>\n",
       "    </tr>\n",
       "    <tr>\n",
       "      <th>293</th>\n",
       "      <td>f777c903946dd86fd00cd5b32ec3e907</td>\n",
       "      <td>construcao_ferramentas_construcao</td>\n",
       "      <td>57.0</td>\n",
       "      <td>954.0</td>\n",
       "      <td>4.0</td>\n",
       "      <td>21400.0</td>\n",
       "      <td>20.0</td>\n",
       "      <td>20.0</td>\n",
       "      <td>20.0</td>\n",
       "      <td>8000.0</td>\n",
       "      <td>3.903090</td>\n",
       "      <td>0.427324</td>\n",
       "    </tr>\n",
       "    <tr>\n",
       "      <th>331</th>\n",
       "      <td>f0737b524fe6b57f2ad4f174ce23a62c</td>\n",
       "      <td>esporte_lazer</td>\n",
       "      <td>43.0</td>\n",
       "      <td>1440.0</td>\n",
       "      <td>1.0</td>\n",
       "      <td>12600.0</td>\n",
       "      <td>20.0</td>\n",
       "      <td>10.0</td>\n",
       "      <td>20.0</td>\n",
       "      <td>4000.0</td>\n",
       "      <td>3.602060</td>\n",
       "      <td>0.498311</td>\n",
       "    </tr>\n",
       "    <tr>\n",
       "      <th>...</th>\n",
       "      <td>...</td>\n",
       "      <td>...</td>\n",
       "      <td>...</td>\n",
       "      <td>...</td>\n",
       "      <td>...</td>\n",
       "      <td>...</td>\n",
       "      <td>...</td>\n",
       "      <td>...</td>\n",
       "      <td>...</td>\n",
       "      <td>...</td>\n",
       "      <td>...</td>\n",
       "      <td>...</td>\n",
       "    </tr>\n",
       "    <tr>\n",
       "      <th>32311</th>\n",
       "      <td>9e8aaef7103f42e3834092cc00dbbb71</td>\n",
       "      <td>perfumaria</td>\n",
       "      <td>56.0</td>\n",
       "      <td>193.0</td>\n",
       "      <td>1.0</td>\n",
       "      <td>100.0</td>\n",
       "      <td>25.0</td>\n",
       "      <td>25.0</td>\n",
       "      <td>35.0</td>\n",
       "      <td>21875.0</td>\n",
       "      <td>4.339948</td>\n",
       "      <td>-2.339948</td>\n",
       "    </tr>\n",
       "    <tr>\n",
       "      <th>32491</th>\n",
       "      <td>2b752ed328ea866e4721ca4e236a416c</td>\n",
       "      <td>moveis_cozinha_area_de_servico_jantar_e_jardim</td>\n",
       "      <td>47.0</td>\n",
       "      <td>2201.0</td>\n",
       "      <td>4.0</td>\n",
       "      <td>30000.0</td>\n",
       "      <td>16.0</td>\n",
       "      <td>2.0</td>\n",
       "      <td>11.0</td>\n",
       "      <td>352.0</td>\n",
       "      <td>2.546543</td>\n",
       "      <td>1.930579</td>\n",
       "    </tr>\n",
       "    <tr>\n",
       "      <th>32494</th>\n",
       "      <td>af026a1d23fa6bede158c62c22ca135c</td>\n",
       "      <td>pet_shop</td>\n",
       "      <td>53.0</td>\n",
       "      <td>794.0</td>\n",
       "      <td>6.0</td>\n",
       "      <td>9000.0</td>\n",
       "      <td>16.0</td>\n",
       "      <td>16.0</td>\n",
       "      <td>16.0</td>\n",
       "      <td>4096.0</td>\n",
       "      <td>3.612360</td>\n",
       "      <td>0.341883</td>\n",
       "    </tr>\n",
       "    <tr>\n",
       "      <th>32795</th>\n",
       "      <td>c22dc992a198753e51e4a25f83957b9b</td>\n",
       "      <td>moveis_decoracao</td>\n",
       "      <td>56.0</td>\n",
       "      <td>470.0</td>\n",
       "      <td>2.0</td>\n",
       "      <td>300.0</td>\n",
       "      <td>80.0</td>\n",
       "      <td>10.0</td>\n",
       "      <td>60.0</td>\n",
       "      <td>48000.0</td>\n",
       "      <td>4.681241</td>\n",
       "      <td>-2.204120</td>\n",
       "    </tr>\n",
       "    <tr>\n",
       "      <th>32950</th>\n",
       "      <td>106392145fca363410d287a815be6de4</td>\n",
       "      <td>cama_mesa_banho</td>\n",
       "      <td>58.0</td>\n",
       "      <td>309.0</td>\n",
       "      <td>1.0</td>\n",
       "      <td>2083.0</td>\n",
       "      <td>12.0</td>\n",
       "      <td>2.0</td>\n",
       "      <td>7.0</td>\n",
       "      <td>168.0</td>\n",
       "      <td>2.225309</td>\n",
       "      <td>1.093380</td>\n",
       "    </tr>\n",
       "  </tbody>\n",
       "</table>\n",
       "<p>264 rows × 12 columns</p>\n",
       "</div>"
      ],
      "text/plain": [
       "                             product_id  \\\n",
       "15     3bb7f144022e6732727d8d838a7b13b3   \n",
       "192    43724b27731595d954e911f443fb1cc4   \n",
       "244    e10758160da97891c2fdcbc35f0f031d   \n",
       "293    f777c903946dd86fd00cd5b32ec3e907   \n",
       "331    f0737b524fe6b57f2ad4f174ce23a62c   \n",
       "...                                 ...   \n",
       "32311  9e8aaef7103f42e3834092cc00dbbb71   \n",
       "32491  2b752ed328ea866e4721ca4e236a416c   \n",
       "32494  af026a1d23fa6bede158c62c22ca135c   \n",
       "32795  c22dc992a198753e51e4a25f83957b9b   \n",
       "32950  106392145fca363410d287a815be6de4   \n",
       "\n",
       "                                product_category_name  product_name_lenght  \\\n",
       "15                                      esporte_lazer                 22.0   \n",
       "192                 construcao_ferramentas_construcao                 57.0   \n",
       "244                                               NaN                  NaN   \n",
       "293                 construcao_ferramentas_construcao                 57.0   \n",
       "331                                     esporte_lazer                 43.0   \n",
       "...                                               ...                  ...   \n",
       "32311                                      perfumaria                 56.0   \n",
       "32491  moveis_cozinha_area_de_servico_jantar_e_jardim                 47.0   \n",
       "32494                                        pet_shop                 53.0   \n",
       "32795                                moveis_decoracao                 56.0   \n",
       "32950                                 cama_mesa_banho                 58.0   \n",
       "\n",
       "       product_description_lenght  product_photos_qty  product_weight_g  \\\n",
       "15                         3021.0                 1.0             800.0   \n",
       "192                         272.0                 1.0            2200.0   \n",
       "244                           NaN                 NaN            2200.0   \n",
       "293                         954.0                 4.0           21400.0   \n",
       "331                        1440.0                 1.0           12600.0   \n",
       "...                           ...                 ...               ...   \n",
       "32311                       193.0                 1.0             100.0   \n",
       "32491                      2201.0                 4.0           30000.0   \n",
       "32494                       794.0                 6.0            9000.0   \n",
       "32795                       470.0                 2.0             300.0   \n",
       "32950                       309.0                 1.0            2083.0   \n",
       "\n",
       "       product_length_cm  product_height_cm  product_width_cm  volume_cm3  \\\n",
       "15                  16.0                2.0              11.0       352.0   \n",
       "192                 16.0                2.0              11.0       352.0   \n",
       "244                 16.0                2.0              11.0       352.0   \n",
       "293                 20.0               20.0              20.0      8000.0   \n",
       "331                 20.0               10.0              20.0      4000.0   \n",
       "...                  ...                ...               ...         ...   \n",
       "32311               25.0               25.0              35.0     21875.0   \n",
       "32491               16.0                2.0              11.0       352.0   \n",
       "32494               16.0               16.0              16.0      4096.0   \n",
       "32795               80.0               10.0              60.0     48000.0   \n",
       "32950               12.0                2.0               7.0       168.0   \n",
       "\n",
       "       volume_cm3_log   density  \n",
       "15           2.546543  0.356547  \n",
       "192          2.546543  0.795880  \n",
       "244          2.546543  0.795880  \n",
       "293          3.903090  0.427324  \n",
       "331          3.602060  0.498311  \n",
       "...               ...       ...  \n",
       "32311        4.339948 -2.339948  \n",
       "32491        2.546543  1.930579  \n",
       "32494        3.612360  0.341883  \n",
       "32795        4.681241 -2.204120  \n",
       "32950        2.225309  1.093380  \n",
       "\n",
       "[264 rows x 12 columns]"
      ]
     },
     "execution_count": 427,
     "metadata": {},
     "output_type": "execute_result"
    }
   ],
   "source": [
    "products[abs(products[\"density\"] - products[\"density\"] .median())/mad > 3.5]"
   ]
  },
  {
   "cell_type": "code",
   "execution_count": 428,
   "id": "b6df2026",
   "metadata": {},
   "outputs": [
    {
     "name": "stdout",
     "output_type": "stream",
     "text": [
      "32681\n"
     ]
    }
   ],
   "source": [
    "products = products[abs(products[\"density\"] -products[\"density\"].median())/mad < 3.5]\n",
    "print(len(products))"
   ]
  },
  {
   "cell_type": "markdown",
   "id": "8270b525",
   "metadata": {},
   "source": [
    "# Estatísticas Descritivas com Vizualizações"
   ]
  },
  {
   "cell_type": "code",
   "execution_count": 429,
   "id": "cf3e6d31",
   "metadata": {},
   "outputs": [
    {
     "data": {
      "text/plain": [
       "count    103886.000000\n",
       "mean          2.853349\n",
       "std           2.687051\n",
       "min           0.000000\n",
       "25%           1.000000\n",
       "50%           1.000000\n",
       "75%           4.000000\n",
       "max          24.000000\n",
       "Name: payment_installments, dtype: float64"
      ]
     },
     "execution_count": 429,
     "metadata": {},
     "output_type": "execute_result"
    }
   ],
   "source": [
    "payments[\"payment_installments\"].describe()"
   ]
  },
  {
   "cell_type": "code",
   "execution_count": 430,
   "id": "58688bee",
   "metadata": {},
   "outputs": [
    {
     "data": {
      "text/plain": [
       "<AxesSubplot:>"
      ]
     },
     "execution_count": 430,
     "metadata": {},
     "output_type": "execute_result"
    },
    {
     "data": {
      "image/png": "[encoded data removed]",
      "text/plain": [
       "<Figure size 432x288 with 1 Axes>"
      ]
     },
     "metadata": {
      "needs_background": "light"
     },
     "output_type": "display_data"
    }
   ],
   "source": [
    "payments[\"payment_installments\"].plot.box()"
   ]
  },
  {
   "cell_type": "code",
   "execution_count": 431,
   "id": "695b8a84",
   "metadata": {},
   "outputs": [
    {
     "data": {
      "text/plain": [
       "<AxesSubplot:>"
      ]
     },
     "execution_count": 431,
     "metadata": {},
     "output_type": "execute_result"
    },
    {
     "data": {
      "image/png": "[encoded data removed]",
      "text/plain": [
       "<Figure size 432x288 with 1 Axes>"
      ]
     },
     "metadata": {
      "needs_background": "light"
     },
     "output_type": "display_data"
    }
   ],
   "source": [
    "payments[\"payment_installments\"].hist()"
   ]
  },
  {
   "cell_type": "code",
   "execution_count": 432,
   "id": "dbfa3e04",
   "metadata": {},
   "outputs": [
    {
     "data": {
      "text/plain": [
       "count    111072.000000\n",
       "mean         19.581067\n",
       "std          14.345014\n",
       "min           0.000000\n",
       "25%          13.030000\n",
       "50%          16.190000\n",
       "75%          20.990000\n",
       "max         312.410000\n",
       "Name: freight_value, dtype: float64"
      ]
     },
     "execution_count": 432,
     "metadata": {},
     "output_type": "execute_result"
    }
   ],
   "source": [
    "items[\"freight_value\"].describe()"
   ]
  },
  {
   "cell_type": "code",
   "execution_count": 433,
   "id": "ca369577",
   "metadata": {},
   "outputs": [
    {
     "data": {
      "text/plain": [
       "<AxesSubplot:>"
      ]
     },
     "execution_count": 433,
     "metadata": {},
     "output_type": "execute_result"
    },
    {
     "data": {
      "image/png": "[encoded data removed]",
      "text/plain": [
       "<Figure size 432x288 with 1 Axes>"
      ]
     },
     "metadata": {
      "needs_background": "light"
     },
     "output_type": "display_data"
    }
   ],
   "source": [
    "items[\"freight_value\"].hist()"
   ]
  },
  {
   "cell_type": "code",
   "execution_count": 434,
   "id": "f71e9044",
   "metadata": {},
   "outputs": [
    {
     "data": {
      "text/plain": [
       "<AxesSubplot:xlabel='payment_installments', ylabel='payment_value'>"
      ]
     },
     "execution_count": 434,
     "metadata": {},
     "output_type": "execute_result"
    },
    {
     "data": {
      "image/png": "[encoded data removed]",
      "text/plain": [
       "<Figure size 432x288 with 1 Axes>"
      ]
     },
     "metadata": {
      "needs_background": "light"
     },
     "output_type": "display_data"
    }
   ],
   "source": [
    "payments.plot.scatter(x=\"payment_installments\",y=\"payment_value\")"
   ]
  },
  {
   "cell_type": "code",
   "execution_count": 435,
   "id": "3da96422",
   "metadata": {},
   "outputs": [
    {
     "data": {
      "text/plain": [
       "count    32681.000000\n",
       "mean      2250.819589\n",
       "std       4239.211860\n",
       "min         50.000000\n",
       "25%        300.000000\n",
       "50%        700.000000\n",
       "75%       1850.000000\n",
       "max      40425.000000\n",
       "Name: product_weight_g, dtype: float64"
      ]
     },
     "execution_count": 435,
     "metadata": {},
     "output_type": "execute_result"
    }
   ],
   "source": [
    "products[\"product_weight_g\"].describe()"
   ]
  },
  {
   "cell_type": "code",
   "execution_count": 436,
   "id": "16d55936",
   "metadata": {},
   "outputs": [
    {
     "data": {
      "text/plain": [
       "<AxesSubplot:xlabel='volume_cm3', ylabel='product_weight_g'>"
      ]
     },
     "execution_count": 436,
     "metadata": {},
     "output_type": "execute_result"
    },
    {
     "data": {
      "image/png": "[encoded data removed]",
      "text/plain": [
       "<Figure size 432x288 with 1 Axes>"
      ]
     },
     "metadata": {
      "needs_background": "light"
     },
     "output_type": "display_data"
    }
   ],
   "source": [
    "products.plot.scatter(x=\"volume_cm3\",y=\"product_weight_g\")"
   ]
  },
  {
   "cell_type": "code",
   "execution_count": 437,
   "id": "acc998e4",
   "metadata": {},
   "outputs": [
    {
     "data": {
      "text/plain": [
       "<AxesSubplot:>"
      ]
     },
     "execution_count": 437,
     "metadata": {},
     "output_type": "execute_result"
    },
    {
     "data": {
      "image/png": "[encoded data removed]",
      "text/plain": [
       "<Figure size 432x288 with 1 Axes>"
      ]
     },
     "metadata": {
      "needs_background": "light"
     },
     "output_type": "display_data"
    }
   ],
   "source": [
    "sellers[\"seller_state\"].hist()"
   ]
  },
  {
   "cell_type": "code",
   "execution_count": 438,
   "id": "abd5c23d",
   "metadata": {},
   "outputs": [
    {
     "data": {
      "text/plain": [
       "<AxesSubplot:>"
      ]
     },
     "execution_count": 438,
     "metadata": {},
     "output_type": "execute_result"
    },
    {
     "data": {
      "image/png": "[encoded data removed]",
      "text/plain": [
       "<Figure size 432x288 with 1 Axes>"
      ]
     },
     "metadata": {
      "needs_background": "light"
     },
     "output_type": "display_data"
    }
   ],
   "source": [
    "reviews[\"review_score\"].hist()"
   ]
  },
  {
   "cell_type": "code",
   "execution_count": 439,
   "id": "f253e84f",
   "metadata": {},
   "outputs": [
    {
     "data": {
      "text/plain": [
       "<AxesSubplot:xlabel='price', ylabel='freight_value'>"
      ]
     },
     "execution_count": 439,
     "metadata": {},
     "output_type": "execute_result"
    },
    {
     "data": {
      "image/png": "[encoded data removed]",
      "text/plain": [
       "<Figure size 432x288 with 1 Axes>"
      ]
     },
     "metadata": {
      "needs_background": "light"
     },
     "output_type": "display_data"
    }
   ],
   "source": [
    "items.plot.scatter(x=\"price\",y=\"freight_value\")"
   ]
  }
 ],
 "metadata": {
  "interpreter": {
   "hash": "89e9a93276cf74b10d8777fa46d582e048e4e0920b86b21e056ea759c711dd3c"
  },
  "kernelspec": {
   "display_name": "Python 3 (ipykernel)",
   "language": "python",
   "name": "python3"
  },
  "language_info": {
   "codemirror_mode": {
    "name": "ipython",
    "version": 3
   },
   "file_extension": ".py",
   "mimetype": "text/x-python",
   "name": "python",
   "nbconvert_exporter": "python",
   "pygments_lexer": "ipython3",
   "version": "3.8.11"
  }
 },
 "nbformat": 4,
 "nbformat_minor": 5
}
